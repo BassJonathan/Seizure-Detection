{
 "cells": [
  {
   "cell_type": "code",
   "execution_count": 1,
   "metadata": {},
   "outputs": [],
   "source": [
    "import pyedflib\n",
    "\n",
    "import numpy as np\n",
    "import pandas as pd\n",
    "\n",
    "import plotly.graph_objects as go\n",
    "\n",
    "import glob\n",
    "import os\n",
    "import re"
   ]
  },
  {
   "cell_type": "code",
   "execution_count": null,
   "metadata": {},
   "outputs": [],
   "source": [
    "f = pyedflib.EdfReader('../00_Data/chb-mit-scalp-eeg-database-1.0.0/chb01/chb01_01.edf')"
   ]
  },
  {
   "cell_type": "code",
   "execution_count": null,
   "metadata": {},
   "outputs": [],
   "source": [
    "f.getSignalLabels()"
   ]
  },
  {
   "cell_type": "code",
   "execution_count": null,
   "metadata": {},
   "outputs": [],
   "source": [
    "type(f.getSampleFrequencies()[0])"
   ]
  },
  {
   "cell_type": "code",
   "execution_count": null,
   "metadata": {},
   "outputs": [],
   "source": [
    "f.getNSamples()[0]"
   ]
  },
  {
   "cell_type": "code",
   "execution_count": null,
   "metadata": {},
   "outputs": [],
   "source": [
    "signal_labels = f.getSignalLabels()\n",
    "signal_data = np.zeros((f.getNSamples()[0], len(signal_labels)))\n",
    "for i, channel in enumerate(signal_labels):\n",
    "    signal_data[:, i] = f.readSignal(signal_labels.index(channel))"
   ]
  },
  {
   "cell_type": "code",
   "execution_count": null,
   "metadata": {},
   "outputs": [],
   "source": [
    "df = pd.DataFrame(signal_data, columns=signal_labels).astype('float32')"
   ]
  },
  {
   "cell_type": "code",
   "execution_count": null,
   "metadata": {},
   "outputs": [],
   "source": [
    "display(df)"
   ]
  },
  {
   "cell_type": "code",
   "execution_count": null,
   "metadata": {},
   "outputs": [],
   "source": [
    "f1 = go.Figure(\n",
    "    data = [\n",
    "        go.Scatter(y=df[\"FP1-F3\"], name=\"RUL\"),\n",
    "        go.Scatter(y=df[\"F7-T7\"], name=\"Predicted RUL\"),\n",
    "    ],\n",
    "    layout = {\"yaxis\": {\"title\": \"RUL [km]\"}, \"xaxis\": {\"title\": \"Samples\"}, \"title\": \"Predicted RUL vs real RUL - TRAIN\"}\n",
    ")\n",
    "\n",
    "f1.show()"
   ]
  },
  {
   "cell_type": "code",
   "execution_count": 2,
   "metadata": {},
   "outputs": [],
   "source": [
    "root_path = '../00_Data/chb-mit-scalp-eeg-database-1.0.0/'\n",
    "all_patients = sorted([patient for patient in os.listdir(root_path) if re.match(r'(chb)\\d+', patient)])"
   ]
  },
  {
   "cell_type": "code",
   "execution_count": 7,
   "metadata": {},
   "outputs": [],
   "source": [
    "patient_dict = {}\n",
    "info_file = open(root_path + all_patients[0] + '/' + all_patients[0] + '-summary.txt','r').readlines()"
   ]
  },
  {
   "cell_type": "code",
   "execution_count": 12,
   "metadata": {},
   "outputs": [],
   "source": [
    "patient_dict['Seizures Window'] = []\n",
    "for line in info_file:\n",
    "    if(re.findall('Seizure Start Time|Seizure End Time|Seizure \\d+ Start Time|Seizure \\d+ End Time', line)):\n",
    "      patient_dict['Seizures Window'].append(int(re.findall('\\d+', line)[-1]))\n",
    "    "
   ]
  },
  {
   "cell_type": "code",
   "execution_count": 13,
   "metadata": {},
   "outputs": [
    {
     "data": {
      "text/plain": [
       "{'Start Time': '',\n",
       " 'Seizures Window': [2996,\n",
       "  3036,\n",
       "  1467,\n",
       "  1494,\n",
       "  1732,\n",
       "  1772,\n",
       "  1015,\n",
       "  1066,\n",
       "  1720,\n",
       "  1810,\n",
       "  327,\n",
       "  420,\n",
       "  1862,\n",
       "  1963]}"
      ]
     },
     "execution_count": 13,
     "metadata": {},
     "output_type": "execute_result"
    }
   ],
   "source": [
    "patient_dict"
   ]
  },
  {
   "cell_type": "code",
   "execution_count": null,
   "metadata": {},
   "outputs": [],
   "source": [
    "#re.findall('Seizure Start Time|Seizure End Time|Seizure \\d+ Start Time|Seizure \\d+ End Time', info_file)\n",
    "patient_dict['Seizures Window'] = []\n",
    "patient_dict['Seizures Window'].append(int(re.findall('\\d+', info_file)))"
   ]
  },
  {
   "cell_type": "code",
   "execution_count": null,
   "metadata": {},
   "outputs": [],
   "source": [
    "patient_dict"
   ]
  },
  {
   "cell_type": "code",
   "execution_count": null,
   "metadata": {},
   "outputs": [],
   "source": [
    "def read_patient_info(patient:str, root_path:str = '../00_Data/chb-mit-scalp-eeg-database-1.0.0/'):\n",
    "    patient_dict = {}\n",
    "    info_file = open(root_path + patient + '/' + patient + '-summary.txt','r')"
   ]
  },
  {
   "cell_type": "code",
   "execution_count": 3,
   "metadata": {},
   "outputs": [],
   "source": [
    "def get_complete_patient_eeg_data(patient:str, patient_dict:dict, root_path:str = '../00_Data/chb-mit-scalp-eeg-database-1.0.0/', channels:list = []):\n",
    "    parent_path = root_path + patient\n",
    "    all_files = glob.glob(os.path.join(parent_path , (\"*.edf\")))\n",
    "    print(\"Test\")\n",
    "    if(len(channels)==0):\n",
    "        channels = pyedflib.EdfReader(all_files[0]).getSignalLabels()\n",
    "    concat_list = []\n",
    "    for chunk in all_files:\n",
    "        edf_file = pyedflib.EdfReader(chunk)\n",
    "        signal_data = np.zeros((edf_file.getNSamples()[0], len(channels)))\n",
    "        for i, channel in enumerate(channels):\n",
    "            signal_data[:, i] = edf_file.readSignal(channels.index(channel))\n",
    "        concat_list.append(pd.DataFrame(signal_data, columns=channels).astype('float32'))\n",
    "    dataframe = pd.concat(concat_list, axis=0, ignore_index=True)\n",
    "    dataframe[\"patient\"] = patient\n",
    "    dataframe[\"timestamp\"] = pd.date_range('1970-01-01 00:00:00', freq='3906250N', periods=len(dataframe))\n",
    "    dataframe[\"seconds\"] = np.floor(np.linspace(0, len(dataframe)/edf_file.getSampleFrequencies()[0], len(dataframe),  endpoint=False)).astype('uint16')\n",
    "    return dataframe\n"
   ]
  },
  {
   "cell_type": "code",
   "execution_count": 4,
   "metadata": {},
   "outputs": [
    {
     "name": "stdout",
     "output_type": "stream",
     "text": [
      "Test\n"
     ]
    }
   ],
   "source": [
    "df = get_complete_patient_eeg_data(all_patients[0], {}, channels=[\"F4-C4\"])"
   ]
  },
  {
   "cell_type": "code",
   "execution_count": 5,
   "metadata": {},
   "outputs": [
    {
     "data": {
      "text/html": [
       "<div>\n",
       "<style scoped>\n",
       "    .dataframe tbody tr th:only-of-type {\n",
       "        vertical-align: middle;\n",
       "    }\n",
       "\n",
       "    .dataframe tbody tr th {\n",
       "        vertical-align: top;\n",
       "    }\n",
       "\n",
       "    .dataframe thead th {\n",
       "        text-align: right;\n",
       "    }\n",
       "</style>\n",
       "<table border=\"1\" class=\"dataframe\">\n",
       "  <thead>\n",
       "    <tr style=\"text-align: right;\">\n",
       "      <th></th>\n",
       "      <th>F4-C4</th>\n",
       "      <th>patient</th>\n",
       "      <th>timestamp</th>\n",
       "      <th>seconds</th>\n",
       "    </tr>\n",
       "  </thead>\n",
       "  <tbody>\n",
       "    <tr>\n",
       "      <th>0</th>\n",
       "      <td>50.989010</td>\n",
       "      <td>chb01</td>\n",
       "      <td>1970-01-01 00:00:00.000000000</td>\n",
       "      <td>0</td>\n",
       "    </tr>\n",
       "    <tr>\n",
       "      <th>1</th>\n",
       "      <td>0.195360</td>\n",
       "      <td>chb01</td>\n",
       "      <td>1970-01-01 00:00:00.003906250</td>\n",
       "      <td>0</td>\n",
       "    </tr>\n",
       "    <tr>\n",
       "      <th>2</th>\n",
       "      <td>0.195360</td>\n",
       "      <td>chb01</td>\n",
       "      <td>1970-01-01 00:00:00.007812500</td>\n",
       "      <td>0</td>\n",
       "    </tr>\n",
       "    <tr>\n",
       "      <th>3</th>\n",
       "      <td>0.195360</td>\n",
       "      <td>chb01</td>\n",
       "      <td>1970-01-01 00:00:00.011718750</td>\n",
       "      <td>0</td>\n",
       "    </tr>\n",
       "    <tr>\n",
       "      <th>4</th>\n",
       "      <td>-0.195360</td>\n",
       "      <td>chb01</td>\n",
       "      <td>1970-01-01 00:00:00.015625000</td>\n",
       "      <td>0</td>\n",
       "    </tr>\n",
       "    <tr>\n",
       "      <th>...</th>\n",
       "      <td>...</td>\n",
       "      <td>...</td>\n",
       "      <td>...</td>\n",
       "      <td>...</td>\n",
       "    </tr>\n",
       "    <tr>\n",
       "      <th>37372923</th>\n",
       "      <td>-37.704517</td>\n",
       "      <td>chb01</td>\n",
       "      <td>1970-01-02 16:33:07.980468750</td>\n",
       "      <td>14915</td>\n",
       "    </tr>\n",
       "    <tr>\n",
       "      <th>37372924</th>\n",
       "      <td>-52.551891</td>\n",
       "      <td>chb01</td>\n",
       "      <td>1970-01-02 16:33:07.984375000</td>\n",
       "      <td>14915</td>\n",
       "    </tr>\n",
       "    <tr>\n",
       "      <th>37372925</th>\n",
       "      <td>-50.207569</td>\n",
       "      <td>chb01</td>\n",
       "      <td>1970-01-02 16:33:07.988281250</td>\n",
       "      <td>14915</td>\n",
       "    </tr>\n",
       "    <tr>\n",
       "      <th>37372926</th>\n",
       "      <td>-28.717949</td>\n",
       "      <td>chb01</td>\n",
       "      <td>1970-01-02 16:33:07.992187500</td>\n",
       "      <td>14915</td>\n",
       "    </tr>\n",
       "    <tr>\n",
       "      <th>37372927</th>\n",
       "      <td>9.963370</td>\n",
       "      <td>chb01</td>\n",
       "      <td>1970-01-02 16:33:07.996093750</td>\n",
       "      <td>14915</td>\n",
       "    </tr>\n",
       "  </tbody>\n",
       "</table>\n",
       "<p>37372928 rows × 4 columns</p>\n",
       "</div>"
      ],
      "text/plain": [
       "              F4-C4 patient                     timestamp  seconds\n",
       "0         50.989010   chb01 1970-01-01 00:00:00.000000000        0\n",
       "1          0.195360   chb01 1970-01-01 00:00:00.003906250        0\n",
       "2          0.195360   chb01 1970-01-01 00:00:00.007812500        0\n",
       "3          0.195360   chb01 1970-01-01 00:00:00.011718750        0\n",
       "4         -0.195360   chb01 1970-01-01 00:00:00.015625000        0\n",
       "...             ...     ...                           ...      ...\n",
       "37372923 -37.704517   chb01 1970-01-02 16:33:07.980468750    14915\n",
       "37372924 -52.551891   chb01 1970-01-02 16:33:07.984375000    14915\n",
       "37372925 -50.207569   chb01 1970-01-02 16:33:07.988281250    14915\n",
       "37372926 -28.717949   chb01 1970-01-02 16:33:07.992187500    14915\n",
       "37372927   9.963370   chb01 1970-01-02 16:33:07.996093750    14915\n",
       "\n",
       "[37372928 rows x 4 columns]"
      ]
     },
     "metadata": {},
     "output_type": "display_data"
    }
   ],
   "source": [
    "display(df)"
   ]
  },
  {
   "cell_type": "code",
   "execution_count": null,
   "metadata": {},
   "outputs": [],
   "source": [
    "f.getSampleFrequencies()"
   ]
  },
  {
   "cell_type": "code",
   "execution_count": null,
   "metadata": {},
   "outputs": [],
   "source": []
  }
 ],
 "metadata": {
  "kernelspec": {
   "display_name": "nlp",
   "language": "python",
   "name": "python3"
  },
  "language_info": {
   "codemirror_mode": {
    "name": "ipython",
    "version": 3
   },
   "file_extension": ".py",
   "mimetype": "text/x-python",
   "name": "python",
   "nbconvert_exporter": "python",
   "pygments_lexer": "ipython3",
   "version": "3.8.16"
  },
  "orig_nbformat": 4
 },
 "nbformat": 4,
 "nbformat_minor": 2
}
