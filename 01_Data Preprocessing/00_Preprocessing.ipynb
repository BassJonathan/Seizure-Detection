{
 "cells": [
  {
   "cell_type": "code",
   "execution_count": null,
   "metadata": {},
   "outputs": [],
   "source": [
    "import pyedflib\n",
    "\n",
    "import numpy as np\n",
    "import pandas as pd\n",
    "\n",
    "import plotly.graph_objects as go\n",
    "\n",
    "import glob\n",
    "import os\n",
    "import re\n",
    "\n",
    "from tqdm import tqdm"
   ]
  },
  {
   "cell_type": "code",
   "execution_count": null,
   "metadata": {},
   "outputs": [],
   "source": [
    "def get_patient_dict(patient:str, root_path:str) -> dict:\n",
    "    info_file = open(root_path + patient + '/' + patient + '-summary.txt','r').readlines()\n",
    "    patient_dict = {'channel_list': []}\n",
    "    for line in info_file:\n",
    "        if(re.findall(r'(File Name: )\\D*\\d*(_)\\d*(.edf)', line)):\n",
    "            file = re.findall(r'(?:chb)\\d*_\\d*(?:.edf)', line)[0]\n",
    "            patient_dict[file] = {'seizure_start': [], 'seizure_end': []}\n",
    "        elif(re.findall(r'Channel \\d+', line)):\n",
    "            patient_dict['channel_list'].append(str(re.findall(r'Channel\\s\\d+:\\s(\\S*)', line)[0]))\n",
    "        elif(re.findall(r'Seizure Start Time|Seizure \\d+ Start Time', line)):\n",
    "            patient_dict[file]['seizure_start'].append(int(re.findall(r'(\\d+)\\sseconds', line)[0]))\n",
    "        elif(re.findall(r'Seizure End Time|Seizure \\d+ End Time', line)):\n",
    "            patient_dict[file]['seizure_end'].append(int(re.findall(r'(\\d+)\\sseconds', line)[0]))\n",
    "    return patient_dict"
   ]
  },
  {
   "cell_type": "code",
   "execution_count": null,
   "metadata": {},
   "outputs": [],
   "source": [
    "def get_labeled_file(file_path:str, channel_list:list, patient_dict:dict) -> pd.DataFrame:\n",
    "    edf_file = pyedflib.EdfReader(file_path)\n",
    "    signal_data = np.zeros((edf_file.getNSamples()[0], len(channel_list)))\n",
    "    for i, channel in enumerate(channel_list):\n",
    "        signal_data[:, i] = edf_file.readSignal(channel_list.index(channel))\n",
    "    dataframe = pd.DataFrame(signal_data, columns=channel_list).astype('float32')\n",
    "    dataframe[\"seconds\"] = np.floor(np.linspace(0, len(dataframe)/edf_file.getSampleFrequencies()[0], len(dataframe), endpoint=False)).astype('uint16')\n",
    "    file_name = re.findall(r'([^\\/]+$)', file_path)[-1]\n",
    "    seizure_start_list = patient_dict.get(file_name).get(\"seizure_start\")\n",
    "    seizure_end_list = patient_dict.get(file_name).get(\"seizure_end\")\n",
    "    dataframe[\"seizure\"] = 0\n",
    "    if(len(seizure_start_list) > 0):\n",
    "        for seizure in range(len(seizure_start_list)):\n",
    "            start_second = seizure_start_list[seizure]\n",
    "            end_second = seizure_end_list[seizure]\n",
    "            dataframe.loc[dataframe[\"seconds\"].between(start_second, end_second), \"seizure\"] = 1\n",
    "    dataframe = dataframe.drop(columns=[\"seconds\"])\n",
    "    return dataframe"
   ]
  },
  {
   "cell_type": "code",
   "execution_count": null,
   "metadata": {},
   "outputs": [],
   "source": [
    "def get_complete_patient_data(patient:str, channel_list:list, root_path:str) -> pd.DataFrame:\n",
    "    parent_path = root_path + patient\n",
    "    all_patient_files = sorted(glob.glob(os.path.join(parent_path , (\"*.edf\"))))\n",
    "    all_patient_files = [ x for x in all_patient_files if \"+\" not in x ]\n",
    "    patient_dict = get_patient_dict(patient=patient, root_path=root_path)\n",
    "    concat_list = []\n",
    "    bar = tqdm(total=len(all_patient_files))\n",
    "    for file in all_patient_files:\n",
    "        concat_list.append(get_labeled_file(file_path=file, channel_list=channel_list, patient_dict=patient_dict))\n",
    "        bar.update(1)\n",
    "    bar.close()\n",
    "    dataframe = pd.concat(concat_list, axis=0, ignore_index=True)\n",
    "    dataframe[\"patient\"] = patient\n",
    "    dataframe[\"timestamp\"] = pd.date_range('1970-01-01 00:00:00', freq='3906250N', periods=len(dataframe))\n",
    "    return dataframe"
   ]
  },
  {
   "cell_type": "code",
   "execution_count": null,
   "metadata": {},
   "outputs": [],
   "source": [
    "def scalp_database_to_dataframe(patient_list:list, channel_list:list, root_path:str) -> pd.DataFrame:\n",
    "    for patient in patient_list:\n",
    "        print(\"Processing Patient: \" + patient)\n",
    "        temp_df = get_complete_patient_data(patient=patient, channel_list=channel_list, root_path=root_path)\n",
    "        temp_df.to_pickle('../00_Data/Dataframes/' + patient + '.pkl')\n",
    "    return None"
   ]
  },
  {
   "cell_type": "code",
   "execution_count": null,
   "metadata": {},
   "outputs": [],
   "source": [
    "root_path = '../00_Data/chb-mit-scalp-eeg-database-1.0.0/'\n",
    "all_patients = sorted([patient for patient in os.listdir(root_path) if re.match(r'(chb)\\d+', patient)])\n",
    "channels = ['FP1-F7', 'C3-P3', 'C4-P4', 'CZ-PZ', 'F3-C3', 'F4-C4', 'F7-T7', 'F8-T8', 'FP1-F3', 'FP2-F4', 'FP2-F8', 'FT10-T8', 'FT9-FT10', 'FZ-CZ', 'P3-O1', 'P4-O2', 'P7-O1', 'P7-T7', 'P8-O2', 'T7-FT9', 'T7-P7', 'T8-P8-0', 'T8-P8-1']"
   ]
  },
  {
   "cell_type": "code",
   "execution_count": null,
   "metadata": {},
   "outputs": [],
   "source": [
    "df = scalp_database_to_dataframe(patient_list=all_patients, channel_list=channels, root_path=root_path)"
   ]
  },
  {
   "attachments": {},
   "cell_type": "markdown",
   "metadata": {},
   "source": [
    "# Data Generation Algorithmus:\n",
    "1. Get path to root folder\n",
    "2. Get list of all patient folders\n",
    "3. Iterate over all all patients\n",
    "    3.1 Get Info-Dict of current patient\n",
    "    3.2 Iterate over indivudual files\n",
    "        3.2.1 Load and transform current file\n",
    "        3.2.2 Add second column\n",
    "        3.2.3 Look in dict if seizures are present\n",
    "        3.2.4 If yes, label the data\n",
    "        3.2.5 Return labeled file data\n",
    "    3.3 Combine all files into one dataframe\n",
    "    3.4 Add Timestamp for later optinal resampling\n",
    "4. Combine all dataframes into one"
   ]
  },
  {
   "attachments": {},
   "cell_type": "markdown",
   "metadata": {},
   "source": [
    "# Dict Structure\n",
    "{\n",
    "    patient: {\n",
    "        channel_list: [],\n",
    "        file_name: {\n",
    "            seizure_start: [],\n",
    "            seizure_end: []\n",
    "        }\n",
    "    }\n",
    "}"
   ]
  }
 ],
 "metadata": {
  "kernelspec": {
   "display_name": "nlp",
   "language": "python",
   "name": "python3"
  },
  "language_info": {
   "codemirror_mode": {
    "name": "ipython",
    "version": 3
   },
   "file_extension": ".py",
   "mimetype": "text/x-python",
   "name": "python",
   "nbconvert_exporter": "python",
   "pygments_lexer": "ipython3",
   "version": "3.8.16"
  },
  "orig_nbformat": 4
 },
 "nbformat": 4,
 "nbformat_minor": 2
}
