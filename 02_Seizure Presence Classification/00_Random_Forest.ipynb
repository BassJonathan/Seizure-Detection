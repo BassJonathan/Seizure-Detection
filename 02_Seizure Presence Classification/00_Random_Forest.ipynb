{
 "cells": [
  {
   "attachments": {},
   "cell_type": "markdown",
   "metadata": {},
   "source": [
    "# Epileptic Seizure Classification with Random Forest\n",
    "This notebook contains the classification of time series EEG data for the detection of epileptic seizures based on the preprocessed CHB-MIT Scalp EEG Database using a Random Forest classifier. <br>\n",
    "The codes is structured as followed:\n",
    "1. [Imports](#1-imports)\n",
    "2. [Load Dataset](#2-load-dataset)\n",
    "3. [Split Dataset](#3-split-dataset)\n",
    "4. [Define Space & Optimization Function](#4-define-space--optimization-function)\n",
    "5. [Train Optimized Classifier](#5-optimize-classifier)\n",
    "6. [Validate Results](#6-validate-results)\n",
    "7. [Conclusions](#7-conclusion)"
   ]
  },
  {
   "attachments": {},
   "cell_type": "markdown",
   "metadata": {},
   "source": [
    "## 1. Imports\n",
    "Import requiered libraries. <br>\n",
    "External packages can be installed via the `pip install -r requirements.txt` command."
   ]
  },
  {
   "cell_type": "code",
   "execution_count": null,
   "metadata": {},
   "outputs": [],
   "source": [
    "! pip install -r ../requirements.txt"
   ]
  },
  {
   "cell_type": "code",
   "execution_count": 1,
   "metadata": {},
   "outputs": [],
   "source": [
    "# Import built-in libraries\n",
    "import time\n",
    "\n",
    "# Import datascience libraries\n",
    "import numpy as np\n",
    "\n",
    "# Import preprocessing-libraries, classifier & metrics\n",
    "from sklearn.ensemble import RandomForestClassifier\n",
    "import joblib\n",
    "from sklearn.model_selection import train_test_split, cross_validate, StratifiedKFold\n",
    "from sklearn.metrics import f1_score, roc_auc_score, precision_score, recall_score, make_scorer, classification_report\n",
    "from imblearn.metrics import geometric_mean_score\n",
    "\n",
    "# Import visualization libraries\n",
    "import plotly.graph_objects as go\n",
    "from prettytable import PrettyTable\n",
    "\n",
    "# Import optimization library\n",
    "from hyperopt import fmin, hp, tpe, STATUS_OK, Trials, STATUS_STRINGS\n",
    "from hyperopt.pyll import scope"
   ]
  },
  {
   "attachments": {},
   "cell_type": "markdown",
   "metadata": {},
   "source": [
    "## 2. Load Dataset\n",
    "In order to load the preprocessed dataset, that was created with the notebook `00_Preprocessing.ipynb`, is loaded and the numpy Arrays for the features and labels are extracted. <br>\n",
    "To enshure a functional distribution of the classes in the dataset, the classes with the respective amounts are plotted."
   ]
  },
  {
   "cell_type": "code",
   "execution_count": 12,
   "metadata": {},
   "outputs": [],
   "source": [
    "dataset = np.load('../00_Data/Processed-Data/classification_dataset_mean.npz')\n",
    "X = dataset[\"features\"]\n",
    "y = dataset[\"labels\"]\n",
    "channels = ['F8-T8', 'T7-FT9', 'F4-C4', 'C3-P3', 'P7-T7', 'P7-O1', 'T8-P8', 'FP1-F7', 'P8-O2', 'T7-P7', 'C4-P4', 'FT10-T8', 'P4-O2', 'F7-T7', 'CZ-PZ', 'FP2-F8', 'P3-O1', 'FP1-F3','FP2-F4', 'FZ-CZ', 'F3-C3', 'FT9-FT10', 'age', 'gender']"
   ]
  },
  {
   "cell_type": "code",
   "execution_count": 3,
   "metadata": {},
   "outputs": [
    {
     "name": "stdout",
     "output_type": "stream",
     "text": [
      "Shapes: \n",
      " X: (16999, 1000, 24) y: (16999, 1)\n",
      "Unique Values: (array([0, 1], dtype=int8), array([10403,  6596]))\n"
     ]
    }
   ],
   "source": [
    "print(\"Shapes: \\n X:\", X.shape, \"y:\", y.shape)\n",
    "print(\"Unique Values:\", np.unique(y, return_counts=True))"
   ]
  },
  {
   "attachments": {},
   "cell_type": "markdown",
   "metadata": {},
   "source": [
    "In order to classify the time series with the Random Forest Classifier, the data must be reshaped into two dimensions and the features flattend."
   ]
  },
  {
   "cell_type": "code",
   "execution_count": 4,
   "metadata": {},
   "outputs": [],
   "source": [
    "n_samples, n_timesteps, n_features = X.shape\n",
    "X_reshaped = np.reshape(X, (n_samples, (n_timesteps * n_features)))"
   ]
  },
  {
   "attachments": {},
   "cell_type": "markdown",
   "metadata": {},
   "source": [
    "## 3. Split Dataset\n",
    "In order to validate and test the trained classifier, the dataset must be split into a `train` and `validation` subset. Due to the applied cross validation, a `test` subset is not needed. <br>\n",
    "To preserve an equal distribution within each split, the `stratify`-option is enabled."
   ]
  },
  {
   "cell_type": "code",
   "execution_count": 5,
   "metadata": {},
   "outputs": [],
   "source": [
    "X_train, X_val, y_train, y_val = train_test_split(X_reshaped, y, test_size=0.3, shuffle=True, stratify=np.ravel(y), random_state=34)"
   ]
  },
  {
   "attachments": {},
   "cell_type": "markdown",
   "metadata": {},
   "source": [
    "## 4. Define Space & Optimization Function\n",
    "To get the best possible predictions, the hyperparameters of the classifier are optimized with the bayesian optimization library `hyperopt`. <br>\n",
    "First, the space for each hyperparameter is defined and stored as an dictionary. <br>\n",
    "The `objective()`-function contains the definition, training and evaluation of the classifier, which is done by a five-fold cross-validation split. <br>\n",
    "Last, the metrics are returned to enable a correct optimization."
   ]
  },
  {
   "cell_type": "code",
   "execution_count": 14,
   "metadata": {},
   "outputs": [],
   "source": [
    "max_features_values = ['sqrt','log2', None]\n",
    "\n",
    "space={\n",
    "    'n_estimators': scope.int(hp.quniform('n_estimators', 100, 600, 10)),\n",
    "    'max_depth': hp.quniform('max_depth', 100, 400, 10),\n",
    "    'min_samples_split' : hp.uniform ('min_samples_split', 0, 0.15),\n",
    "    'min_samples_leaf': hp.uniform('min_samples_leaf', 0, 0.25),\n",
    "    'max_features': hp.choice('max_features', max_features_values),\n",
    "}\n",
    "\n",
    "gm_scorer = make_scorer(geometric_mean_score, greater_is_better=True, average='macro') #Create Scorer for G-Mean"
   ]
  },
  {
   "cell_type": "code",
   "execution_count": 15,
   "metadata": {},
   "outputs": [],
   "source": [
    "def objective(space):\n",
    "    global X_train, y_train, X_test, y_test\n",
    "\n",
    "    # Create classifier\n",
    "    rf_classifier = RandomForestClassifier(\n",
    "        n_estimators = int(space[\"n_estimators\"]),\n",
    "        max_depth = int(space[\"max_depth\"]),\n",
    "        min_samples_split = space[\"min_samples_split\"],\n",
    "        min_samples_leaf = space[\"min_samples_leaf\"],\n",
    "        max_features=space[\"max_features\"],\n",
    "        random_state=456,\n",
    "        n_jobs=-1,\n",
    "        verbose=0\n",
    "    )\n",
    "\n",
    "    # Cross Validation\n",
    "    splits = StratifiedKFold(n_splits=5, shuffle=True)\n",
    "    cross_val = cross_validate(rf_classifier, X_train, np.ravel(y_train), cv=splits, scoring={'f1_macro': 'f1_macro', 'f1_weighted': 'f1_weighted', 'auc': 'roc_auc_ovr', 'gmean': gm_scorer, 'precision': 'precision_macro', 'recall': 'recall_macro', 'waccuracy': 'balanced_accuracy'})\n",
    "    try:\n",
    "        cv_f1_macro = np.mean(cross_val.get('test_f1_macro')[~np.isnan(cross_val.get('test_f1_macro'))])\n",
    "        cv_f1_weighted = np.mean(cross_val.get('test_f1_weighted')[~np.isnan(cross_val.get('test_f1_weighted'))])\n",
    "        cv_auc = np.mean(cross_val.get('test_auc')[~np.isnan(cross_val.get('test_auc'))])\n",
    "        cv_gmean = np.mean(cross_val.get('test_gmean')[~np.isnan(cross_val.get('test_gmean'))])\n",
    "        cv_precision = np.mean(cross_val.get('test_precision')[~np.isnan(cross_val.get('test_precision'))])\n",
    "        cv_recall = np.mean(cross_val.get('test_recall')[~np.isnan(cross_val.get('test_recall'))])\n",
    "        cv_acc_weighted = np.mean(cross_val.get('test_waccuracy')[~np.isnan(cross_val.get('test_waccuracy'))])\n",
    "    except Exception as e:\n",
    "        print(e)\n",
    "        return {\n",
    "            'loss': 1, \n",
    "            'status': STATUS_STRINGS[4], \n",
    "            'metrics': {\n",
    "                'cv_f1_macro': -1,\n",
    "                'cv_f1_weighted': -1,\n",
    "                'cv_auc': -1,\n",
    "                'cv_gmean': -1,\n",
    "                'cv_precision': -1,\n",
    "                'cv_recall': -1,\n",
    "                'cv_acc_weighted': -1\n",
    "            },\n",
    "            'eval_time': time.time()\n",
    "        }\n",
    "\n",
    "    return {\n",
    "        'loss': -cv_f1_macro, \n",
    "        'status': STATUS_OK, \n",
    "        'metrics': {\n",
    "            'cv_f1_macro': cv_f1_macro,\n",
    "            'cv_f1_weighted': cv_f1_weighted,\n",
    "            'cv_auc': cv_auc,\n",
    "            'cv_gmean': cv_gmean,\n",
    "            'cv_precision': cv_precision,\n",
    "            'cv_recall': cv_recall,\n",
    "            'cv_acc_weighted': cv_acc_weighted\n",
    "        },\n",
    "        'eval_time': time.time()\n",
    "    }"
   ]
  },
  {
   "attachments": {},
   "cell_type": "markdown",
   "metadata": {},
   "source": [
    "## 5. Optimize Classifier"
   ]
  },
  {
   "cell_type": "code",
   "execution_count": 16,
   "metadata": {},
   "outputs": [
    {
     "name": "stdout",
     "output_type": "stream",
     "text": [
      "  0%|          | 0/5 [00:00<?, ?trial/s, best loss=?]"
     ]
    },
    {
     "name": "stderr",
     "output_type": "stream",
     "text": [
      "Precision is ill-defined and being set to 0.0 in labels with no predicted samples. Use `zero_division` parameter to control this behavior.\n",
      "\n",
      "Precision is ill-defined and being set to 0.0 in labels with no predicted samples. Use `zero_division` parameter to control this behavior.\n",
      "\n",
      "Precision is ill-defined and being set to 0.0 in labels with no predicted samples. Use `zero_division` parameter to control this behavior.\n",
      "\n",
      "Precision is ill-defined and being set to 0.0 in labels with no predicted samples. Use `zero_division` parameter to control this behavior.\n",
      "\n"
     ]
    },
    {
     "name": "stdout",
     "output_type": "stream",
     "text": [
      " 20%|██        | 1/5 [00:45<03:02, 45.62s/trial, best loss: -0.3796465179109455]"
     ]
    },
    {
     "name": "stderr",
     "output_type": "stream",
     "text": [
      "Precision is ill-defined and being set to 0.0 in labels with no predicted samples. Use `zero_division` parameter to control this behavior.\n",
      "\n"
     ]
    },
    {
     "name": "stdout",
     "output_type": "stream",
     "text": [
      " 40%|████      | 2/5 [02:27<03:55, 78.42s/trial, best loss: -0.8364854062803957]"
     ]
    },
    {
     "name": "stderr",
     "output_type": "stream",
     "text": [
      "Precision is ill-defined and being set to 0.0 in labels with no predicted samples. Use `zero_division` parameter to control this behavior.\n",
      "\n",
      "Precision is ill-defined and being set to 0.0 in labels with no predicted samples. Use `zero_division` parameter to control this behavior.\n",
      "\n",
      "Precision is ill-defined and being set to 0.0 in labels with no predicted samples. Use `zero_division` parameter to control this behavior.\n",
      "\n",
      "Precision is ill-defined and being set to 0.0 in labels with no predicted samples. Use `zero_division` parameter to control this behavior.\n",
      "\n"
     ]
    },
    {
     "name": "stdout",
     "output_type": "stream",
     "text": [
      " 60%|██████    | 3/5 [03:06<02:01, 60.54s/trial, best loss: -0.8364854062803957]"
     ]
    },
    {
     "name": "stderr",
     "output_type": "stream",
     "text": [
      "Precision is ill-defined and being set to 0.0 in labels with no predicted samples. Use `zero_division` parameter to control this behavior.\n",
      "\n",
      "Precision is ill-defined and being set to 0.0 in labels with no predicted samples. Use `zero_division` parameter to control this behavior.\n",
      "\n",
      "Precision is ill-defined and being set to 0.0 in labels with no predicted samples. Use `zero_division` parameter to control this behavior.\n",
      "\n",
      "Precision is ill-defined and being set to 0.0 in labels with no predicted samples. Use `zero_division` parameter to control this behavior.\n",
      "\n",
      "Precision is ill-defined and being set to 0.0 in labels with no predicted samples. Use `zero_division` parameter to control this behavior.\n",
      "\n"
     ]
    },
    {
     "name": "stdout",
     "output_type": "stream",
     "text": [
      " 80%|████████  | 4/5 [03:38<00:49, 49.38s/trial, best loss: -0.8364854062803957]"
     ]
    },
    {
     "name": "stderr",
     "output_type": "stream",
     "text": [
      "Precision is ill-defined and being set to 0.0 in labels with no predicted samples. Use `zero_division` parameter to control this behavior.\n",
      "\n"
     ]
    },
    {
     "name": "stdout",
     "output_type": "stream",
     "text": [
      "100%|██████████| 5/5 [1:33:56<00:00, 1127.25s/trial, best loss: -0.8364854062803957]\n"
     ]
    }
   ],
   "source": [
    "trials = Trials()\n",
    "\n",
    "# Execution >5min!\n",
    "\n",
    "# best_param = fmin(\n",
    "#     fn=objective,\n",
    "#     space=space,\n",
    "#     algo=tpe.suggest,\n",
    "#     max_evals=5,\n",
    "#     trials=trials\n",
    "# )"
   ]
  },
  {
   "cell_type": "code",
   "execution_count": 17,
   "metadata": {},
   "outputs": [
    {
     "name": "stdout",
     "output_type": "stream",
     "text": [
      "{'max_depth': 260.0, 'max_features': 0, 'min_samples_leaf': 0.0450100263227729, 'min_samples_split': 0.04862715588473516, 'n_estimators': 470.0}\n"
     ]
    }
   ],
   "source": [
    "# print(best_param)"
   ]
  },
  {
   "attachments": {},
   "cell_type": "markdown",
   "metadata": {},
   "source": [
    "## 6. Validate Results\n",
    "To ensure correct training without overfitting and to demonstrate the generalizability of the model, a validation step is performed last. The `val` subset, which was not seen by the neural network during training, serves as the data basis for this. Therefore, the obtained results can be used as a representation of the generalistic predictive ability of the random forest model. Since, depending on the data set, there may be an imbalance in the distribution of the classes, the accuracy is not used as the discriminating metric. \n",
    "\n",
    "The `F1-Score`, `G-Mean`, the `AUC of the ROC` both as well as the basic Precision and Recall are calculated in the following section."
   ]
  },
  {
   "cell_type": "code",
   "execution_count": 18,
   "metadata": {},
   "outputs": [],
   "source": [
    "# rf_classifier = RandomForestClassifier(\n",
    "#     n_estimators = int(best_param['n_estimators']),\n",
    "#     max_depth = int(best_param[\"max_depth\"]),\n",
    "#     min_samples_split = best_param[\"min_samples_split\"],\n",
    "#     min_samples_leaf = best_param[\"min_samples_leaf\"],\n",
    "#     max_features = max_features_values[best_param[\"max_features\"]],\n",
    "#     random_state = 456,\n",
    "#     n_jobs = -1,\n",
    "#     verbose = 2\n",
    "# )"
   ]
  },
  {
   "cell_type": "code",
   "execution_count": 19,
   "metadata": {},
   "outputs": [
    {
     "name": "stderr",
     "output_type": "stream",
     "text": [
      "[Parallel(n_jobs=-1)]: Using backend ThreadingBackend with 10 concurrent workers.\n"
     ]
    },
    {
     "name": "stdout",
     "output_type": "stream",
     "text": [
      "building tree 1 of 470building tree 2 of 470\n",
      "\n",
      "building tree 3 of 470\n",
      "building tree 4 of 470\n",
      "building tree 5 of 470\n",
      "building tree 6 of 470\n",
      "building tree 7 of 470\n",
      "building tree 8 of 470\n",
      "building tree 9 of 470\n",
      "building tree 10 of 470\n",
      "building tree 11 of 470\n",
      "building tree 12 of 470\n",
      "building tree 13 of 470\n",
      "building tree 14 of 470\n",
      "building tree 15 of 470\n",
      "building tree 16 of 470\n",
      "building tree 17 of 470\n",
      "building tree 18 of 470\n",
      "building tree 19 of 470\n",
      "building tree 20 of 470\n",
      "building tree 21 of 470building tree 22 of 470\n",
      "\n",
      "building tree 23 of 470\n",
      "building tree 24 of 470\n",
      "building tree 25 of 470\n",
      "building tree 26 of 470\n",
      "building tree 27 of 470\n",
      "building tree 28 of 470\n",
      "building tree 29 of 470\n",
      "building tree 30 of 470\n",
      "building tree 31 of 470\n",
      "building tree 32 of 470\n",
      "building tree 33 of 470\n",
      "building tree 34 of 470\n",
      "building tree 35 of 470\n",
      "building tree 36 of 470\n",
      "building tree 37 of 470\n",
      "building tree 38 of 470\n",
      "building tree 39 of 470\n",
      "building tree 40 of 470\n"
     ]
    },
    {
     "name": "stderr",
     "output_type": "stream",
     "text": [
      "[Parallel(n_jobs=-1)]: Done  21 tasks      | elapsed:    1.3s\n"
     ]
    },
    {
     "name": "stdout",
     "output_type": "stream",
     "text": [
      "building tree 41 of 470\n",
      "building tree 42 of 470\n",
      "building tree 43 of 470\n",
      "building tree 44 of 470\n",
      "building tree 45 of 470\n",
      "building tree 46 of 470\n",
      "building tree 47 of 470\n",
      "building tree 48 of 470\n",
      "building tree 49 of 470\n",
      "building tree 50 of 470\n",
      "building tree 51 of 470\n",
      "building tree 52 of 470\n",
      "building tree 53 of 470\n",
      "building tree 54 of 470\n",
      "building tree 55 of 470\n",
      "building tree 56 of 470\n",
      "building tree 57 of 470\n",
      "building tree 58 of 470\n",
      "building tree 59 of 470\n",
      "building tree 60 of 470\n",
      "building tree 61 of 470\n",
      "building tree 62 of 470\n",
      "building tree 63 of 470\n",
      "building tree 64 of 470\n",
      "building tree 65 of 470\n",
      "building tree 66 of 470\n",
      "building tree 67 of 470\n",
      "building tree 68 of 470\n",
      "building tree 69 of 470\n",
      "building tree 70 of 470\n",
      "building tree 71 of 470\n",
      "building tree 72 of 470\n",
      "building tree 73 of 470\n",
      "building tree 74 of 470\n",
      "building tree 75 of 470\n",
      "building tree 76 of 470\n",
      "building tree 77 of 470\n",
      "building tree 78 of 470\n",
      "building tree 79 of 470\n",
      "building tree 80 of 470\n",
      "building tree 81 of 470\n",
      "building tree 82 of 470\n",
      "building tree 83 of 470\n",
      "building tree 84 of 470\n",
      "building tree 85 of 470\n",
      "building tree 86 of 470\n",
      "building tree 87 of 470\n",
      "building tree 88 of 470\n",
      "building tree 89 of 470\n",
      "building tree 90 of 470\n",
      "building tree 91 of 470\n",
      "building tree 92 of 470\n",
      "building tree 93 of 470\n",
      "building tree 94 of 470\n",
      "building tree 95 of 470\n",
      "building tree 96 of 470\n",
      "building tree 97 of 470\n",
      "building tree 98 of 470\n",
      "building tree 99 of 470\n",
      "building tree 100 of 470\n",
      "building tree 101 of 470\n",
      "building tree 102 of 470\n",
      "building tree 103 of 470\n",
      "building tree 104 of 470\n",
      "building tree 105 of 470\n",
      "building tree 106 of 470\n",
      "building tree 107 of 470\n",
      "building tree 108 of 470\n",
      "building tree 109 of 470\n",
      "building tree 110 of 470\n",
      "building tree 111 of 470\n",
      "building tree 112 of 470\n",
      "building tree 113 of 470\n",
      "building tree 114 of 470\n",
      "building tree 115 of 470\n",
      "building tree 116 of 470\n",
      "building tree 117 of 470\n",
      "building tree 118 of 470\n",
      "building tree 119 of 470\n",
      "building tree 120 of 470\n",
      "building tree 121 of 470\n",
      "building tree 122 of 470\n",
      "building tree 123 of 470\n",
      "building tree 124 of 470\n",
      "building tree 125 of 470\n",
      "building tree 126 of 470\n",
      "building tree 127 of 470\n",
      "building tree 128 of 470\n",
      "building tree 129 of 470\n",
      "building tree 130 of 470\n",
      "building tree 131 of 470\n",
      "building tree 132 of 470\n",
      "building tree 133 of 470\n",
      "building tree 134 of 470\n",
      "building tree 135 of 470\n",
      "building tree 136 of 470\n",
      "building tree 137 of 470\n",
      "building tree 138 of 470\n",
      "building tree 139 of 470\n",
      "building tree 140 of 470\n",
      "building tree 141 of 470\n",
      "building tree 142 of 470\n",
      "building tree 143 of 470\n",
      "building tree 144 of 470\n",
      "building tree 145 of 470\n",
      "building tree 146 of 470\n",
      "building tree 147 of 470\n",
      "building tree 148 of 470\n",
      "building tree 149 of 470\n",
      "building tree 150 of 470\n",
      "building tree 151 of 470\n",
      "building tree 152 of 470\n"
     ]
    },
    {
     "name": "stderr",
     "output_type": "stream",
     "text": [
      "[Parallel(n_jobs=-1)]: Done 142 tasks      | elapsed:    6.5s\n"
     ]
    },
    {
     "name": "stdout",
     "output_type": "stream",
     "text": [
      "building tree 153 of 470\n",
      "building tree 154 of 470\n",
      "building tree 155 of 470\n",
      "building tree 156 of 470\n",
      "building tree 157 of 470\n",
      "building tree 158 of 470\n",
      "building tree 159 of 470\n",
      "building tree 160 of 470\n",
      "building tree 161 of 470\n",
      "building tree 162 of 470\n",
      "building tree 163 of 470\n",
      "building tree 164 of 470\n",
      "building tree 165 of 470\n",
      "building tree 166 of 470\n",
      "building tree 167 of 470\n",
      "building tree 168 of 470\n",
      "building tree 169 of 470\n",
      "building tree 170 of 470\n",
      "building tree 171 of 470\n",
      "building tree 172 of 470\n",
      "building tree 173 of 470\n",
      "building tree 174 of 470\n",
      "building tree 175 of 470\n",
      "building tree 176 of 470\n",
      "building tree 177 of 470\n",
      "building tree 178 of 470\n",
      "building tree 179 of 470\n",
      "building tree 180 of 470\n",
      "building tree 181 of 470\n",
      "building tree 182 of 470\n",
      "building tree 183 of 470\n",
      "building tree 184 of 470\n",
      "building tree 185 of 470\n",
      "building tree 186 of 470\n",
      "building tree 187 of 470\n",
      "building tree 188 of 470\n",
      "building tree 189 of 470\n",
      "building tree 190 of 470\n",
      "building tree 191 of 470\n",
      "building tree 192 of 470\n",
      "building tree 193 of 470\n",
      "building tree 194 of 470\n",
      "building tree 195 of 470\n",
      "building tree 196 of 470\n",
      "building tree 197 of 470\n",
      "building tree 198 of 470\n",
      "building tree 199 of 470\n",
      "building tree 200 of 470\n",
      "building tree 201 of 470\n",
      "building tree 202 of 470\n",
      "building tree 203 of 470\n",
      "building tree 204 of 470\n",
      "building tree 205 of 470\n",
      "building tree 206 of 470\n",
      "building tree 207 of 470\n",
      "building tree 208 of 470\n",
      "building tree 209 of 470\n",
      "building tree 210 of 470\n",
      "building tree 211 of 470\n",
      "building tree 212 of 470\n",
      "building tree 213 of 470\n",
      "building tree 214 of 470\n",
      "building tree 215 of 470\n",
      "building tree 216 of 470\n",
      "building tree 217 of 470\n",
      "building tree 218 of 470\n",
      "building tree 219 of 470\n",
      "building tree 220 of 470\n",
      "building tree 221 of 470\n",
      "building tree 222 of 470\n",
      "building tree 223 of 470\n",
      "building tree 224 of 470\n",
      "building tree 225 of 470\n",
      "building tree 226 of 470\n",
      "building tree 227 of 470\n",
      "building tree 228 of 470\n",
      "building tree 229 of 470\n",
      "building tree 230 of 470\n",
      "building tree 231 of 470\n",
      "building tree 232 of 470\n",
      "building tree 233 of 470\n",
      "building tree 234 of 470\n",
      "building tree 235 of 470\n",
      "building tree 236 of 470\n",
      "building tree 237 of 470\n",
      "building tree 238 of 470\n",
      "building tree 239 of 470\n",
      "building tree 240 of 470\n",
      "building tree 241 of 470\n",
      "building tree 242 of 470\n",
      "building tree 243 of 470\n",
      "building tree 244 of 470\n",
      "building tree 245 of 470\n",
      "building tree 246 of 470\n",
      "building tree 247 of 470\n",
      "building tree 248 of 470\n",
      "building tree 249 of 470\n",
      "building tree 250 of 470\n",
      "building tree 251 of 470\n",
      "building tree 252 of 470\n",
      "building tree 253 of 470\n",
      "building tree 254 of 470\n",
      "building tree 255 of 470\n",
      "building tree 256 of 470\n",
      "building tree 257 of 470\n",
      "building tree 258 of 470\n",
      "building tree 259 of 470\n",
      "building tree 260 of 470\n",
      "building tree 261 of 470\n",
      "building tree 262 of 470\n",
      "building tree 263 of 470\n",
      "building tree 264 of 470\n",
      "building tree 265 of 470\n",
      "building tree 266 of 470\n",
      "building tree 267 of 470\n",
      "building tree 268 of 470\n",
      "building tree 269 of 470\n",
      "building tree 270 of 470\n",
      "building tree 271 of 470\n",
      "building tree 272 of 470\n",
      "building tree 273 of 470\n",
      "building tree 274 of 470\n",
      "building tree 275 of 470building tree 276 of 470\n",
      "\n",
      "building tree 277 of 470\n",
      "building tree 278 of 470\n",
      "building tree 279 of 470\n",
      "building tree 280 of 470building tree 281 of 470\n",
      "\n",
      "building tree 282 of 470\n",
      "building tree 283 of 470\n",
      "building tree 284 of 470\n",
      "building tree 285 of 470\n",
      "building tree 286 of 470\n",
      "building tree 287 of 470\n",
      "building tree 288 of 470\n",
      "building tree 289 of 470\n",
      "building tree 290 of 470\n",
      "building tree 291 of 470\n",
      "building tree 292 of 470\n",
      "building tree 293 of 470\n",
      "building tree 294 of 470\n",
      "building tree 295 of 470\n",
      "building tree 296 of 470\n",
      "building tree 297 of 470\n",
      "building tree 298 of 470\n",
      "building tree 299 of 470\n",
      "building tree 300 of 470\n",
      "building tree 301 of 470\n",
      "building tree 302 of 470\n",
      "building tree 303 of 470\n",
      "building tree 304 of 470\n",
      "building tree 305 of 470\n",
      "building tree 306 of 470\n",
      "building tree 307 of 470building tree 308 of 470\n",
      "\n",
      "building tree 309 of 470\n",
      "building tree 310 of 470\n",
      "building tree 311 of 470\n",
      "building tree 312 of 470\n",
      "building tree 313 of 470\n",
      "building tree 314 of 470\n",
      "building tree 315 of 470\n",
      "building tree 316 of 470\n",
      "building tree 317 of 470\n",
      "building tree 318 of 470\n",
      "building tree 319 of 470\n",
      "building tree 320 of 470\n",
      "building tree 321 of 470\n",
      "building tree 322 of 470\n",
      "building tree 323 of 470\n",
      "building tree 324 of 470\n",
      "building tree 325 of 470\n",
      "building tree 326 of 470\n",
      "building tree 327 of 470\n",
      "building tree 328 of 470\n",
      "building tree 329 of 470\n",
      "building tree 330 of 470\n",
      "building tree 331 of 470\n",
      "building tree 332 of 470\n",
      "building tree 333 of 470\n",
      "building tree 334 of 470\n",
      "building tree 335 of 470\n",
      "building tree 336 of 470\n",
      "building tree 337 of 470\n",
      "building tree 338 of 470\n",
      "building tree 339 of 470\n",
      "building tree 340 of 470\n",
      "building tree 341 of 470building tree 342 of 470\n",
      "\n",
      "building tree 343 of 470\n",
      "building tree 344 of 470\n",
      "building tree 345 of 470\n",
      "building tree 346 of 470\n",
      "building tree 347 of 470\n",
      "building tree 348 of 470\n",
      "building tree 349 of 470\n",
      "building tree 350 of 470\n",
      "building tree 351 of 470building tree 352 of 470\n",
      "\n",
      "building tree 353 of 470\n",
      "building tree 354 of 470\n",
      "building tree 355 of 470\n",
      "building tree 356 of 470\n",
      "building tree 357 of 470\n"
     ]
    },
    {
     "name": "stderr",
     "output_type": "stream",
     "text": [
      "[Parallel(n_jobs=-1)]: Done 345 tasks      | elapsed:   15.6s\n"
     ]
    },
    {
     "name": "stdout",
     "output_type": "stream",
     "text": [
      "building tree 358 of 470\n",
      "building tree 359 of 470\n",
      "building tree 360 of 470\n",
      "building tree 361 of 470\n",
      "building tree 362 of 470\n",
      "building tree 363 of 470\n",
      "building tree 364 of 470\n",
      "building tree 365 of 470\n",
      "building tree 366 of 470\n",
      "building tree 367 of 470\n",
      "building tree 368 of 470\n",
      "building tree 369 of 470\n",
      "building tree 370 of 470\n",
      "building tree 371 of 470\n",
      "building tree 372 of 470\n",
      "building tree 373 of 470\n",
      "building tree 374 of 470\n",
      "building tree 375 of 470\n",
      "building tree 376 of 470\n",
      "building tree 377 of 470\n",
      "building tree 378 of 470\n",
      "building tree 379 of 470\n",
      "building tree 380 of 470\n",
      "building tree 381 of 470\n",
      "building tree 382 of 470\n",
      "building tree 383 of 470\n",
      "building tree 384 of 470\n",
      "building tree 385 of 470\n",
      "building tree 386 of 470\n",
      "building tree 387 of 470\n",
      "building tree 388 of 470\n",
      "building tree 389 of 470\n",
      "building tree 390 of 470\n",
      "building tree 391 of 470\n",
      "building tree 392 of 470\n",
      "building tree 393 of 470\n",
      "building tree 394 of 470\n",
      "building tree 395 of 470\n",
      "building tree 396 of 470\n",
      "building tree 397 of 470\n",
      "building tree 398 of 470\n",
      "building tree 399 of 470\n",
      "building tree 400 of 470\n",
      "building tree 401 of 470\n",
      "building tree 402 of 470\n",
      "building tree 403 of 470\n",
      "building tree 404 of 470\n",
      "building tree 405 of 470\n",
      "building tree 406 of 470\n",
      "building tree 407 of 470\n",
      "building tree 408 of 470\n",
      "building tree 409 of 470\n",
      "building tree 410 of 470\n",
      "building tree 411 of 470\n",
      "building tree 412 of 470\n",
      "building tree 413 of 470\n",
      "building tree 414 of 470\n",
      "building tree 415 of 470\n",
      "building tree 416 of 470\n",
      "building tree 417 of 470\n",
      "building tree 418 of 470\n",
      "building tree 419 of 470\n",
      "building tree 420 of 470\n",
      "building tree 421 of 470\n",
      "building tree 422 of 470\n",
      "building tree 423 of 470\n",
      "building tree 424 of 470\n",
      "building tree 425 of 470\n",
      "building tree 426 of 470\n",
      "building tree 427 of 470\n",
      "building tree 428 of 470\n",
      "building tree 429 of 470\n",
      "building tree 430 of 470\n",
      "building tree 431 of 470\n",
      "building tree 432 of 470\n",
      "building tree 433 of 470\n",
      "building tree 434 of 470\n",
      "building tree 435 of 470\n",
      "building tree 436 of 470\n",
      "building tree 437 of 470\n",
      "building tree 438 of 470\n",
      "building tree 439 of 470\n",
      "building tree 440 of 470\n",
      "building tree 441 of 470\n",
      "building tree 442 of 470\n",
      "building tree 443 of 470\n",
      "building tree 444 of 470\n",
      "building tree 445 of 470\n",
      "building tree 446 of 470\n",
      "building tree 447 of 470\n",
      "building tree 448 of 470\n",
      "building tree 449 of 470\n",
      "building tree 450 of 470\n",
      "building tree 451 of 470\n",
      "building tree 452 of 470\n",
      "building tree 453 of 470\n",
      "building tree 454 of 470\n",
      "building tree 455 of 470\n",
      "building tree 456 of 470\n",
      "building tree 457 of 470\n",
      "building tree 458 of 470\n",
      "building tree 459 of 470\n",
      "building tree 460 of 470\n",
      "building tree 461 of 470\n",
      "building tree 462 of 470\n",
      "building tree 463 of 470\n",
      "building tree 464 of 470\n",
      "building tree 465 of 470\n",
      "building tree 466 of 470\n",
      "building tree 467 of 470\n",
      "building tree 468 of 470\n",
      "building tree 469 of 470\n",
      "building tree 470 of 470\n"
     ]
    },
    {
     "name": "stderr",
     "output_type": "stream",
     "text": [
      "[Parallel(n_jobs=-1)]: Done 470 out of 470 | elapsed:   21.1s finished\n"
     ]
    },
    {
     "data": {
      "text/html": [
       "<style>#sk-container-id-1 {color: black;background-color: white;}#sk-container-id-1 pre{padding: 0;}#sk-container-id-1 div.sk-toggleable {background-color: white;}#sk-container-id-1 label.sk-toggleable__label {cursor: pointer;display: block;width: 100%;margin-bottom: 0;padding: 0.3em;box-sizing: border-box;text-align: center;}#sk-container-id-1 label.sk-toggleable__label-arrow:before {content: \"▸\";float: left;margin-right: 0.25em;color: #696969;}#sk-container-id-1 label.sk-toggleable__label-arrow:hover:before {color: black;}#sk-container-id-1 div.sk-estimator:hover label.sk-toggleable__label-arrow:before {color: black;}#sk-container-id-1 div.sk-toggleable__content {max-height: 0;max-width: 0;overflow: hidden;text-align: left;background-color: #f0f8ff;}#sk-container-id-1 div.sk-toggleable__content pre {margin: 0.2em;color: black;border-radius: 0.25em;background-color: #f0f8ff;}#sk-container-id-1 input.sk-toggleable__control:checked~div.sk-toggleable__content {max-height: 200px;max-width: 100%;overflow: auto;}#sk-container-id-1 input.sk-toggleable__control:checked~label.sk-toggleable__label-arrow:before {content: \"▾\";}#sk-container-id-1 div.sk-estimator input.sk-toggleable__control:checked~label.sk-toggleable__label {background-color: #d4ebff;}#sk-container-id-1 div.sk-label input.sk-toggleable__control:checked~label.sk-toggleable__label {background-color: #d4ebff;}#sk-container-id-1 input.sk-hidden--visually {border: 0;clip: rect(1px 1px 1px 1px);clip: rect(1px, 1px, 1px, 1px);height: 1px;margin: -1px;overflow: hidden;padding: 0;position: absolute;width: 1px;}#sk-container-id-1 div.sk-estimator {font-family: monospace;background-color: #f0f8ff;border: 1px dotted black;border-radius: 0.25em;box-sizing: border-box;margin-bottom: 0.5em;}#sk-container-id-1 div.sk-estimator:hover {background-color: #d4ebff;}#sk-container-id-1 div.sk-parallel-item::after {content: \"\";width: 100%;border-bottom: 1px solid gray;flex-grow: 1;}#sk-container-id-1 div.sk-label:hover label.sk-toggleable__label {background-color: #d4ebff;}#sk-container-id-1 div.sk-serial::before {content: \"\";position: absolute;border-left: 1px solid gray;box-sizing: border-box;top: 0;bottom: 0;left: 50%;z-index: 0;}#sk-container-id-1 div.sk-serial {display: flex;flex-direction: column;align-items: center;background-color: white;padding-right: 0.2em;padding-left: 0.2em;position: relative;}#sk-container-id-1 div.sk-item {position: relative;z-index: 1;}#sk-container-id-1 div.sk-parallel {display: flex;align-items: stretch;justify-content: center;background-color: white;position: relative;}#sk-container-id-1 div.sk-item::before, #sk-container-id-1 div.sk-parallel-item::before {content: \"\";position: absolute;border-left: 1px solid gray;box-sizing: border-box;top: 0;bottom: 0;left: 50%;z-index: -1;}#sk-container-id-1 div.sk-parallel-item {display: flex;flex-direction: column;z-index: 1;position: relative;background-color: white;}#sk-container-id-1 div.sk-parallel-item:first-child::after {align-self: flex-end;width: 50%;}#sk-container-id-1 div.sk-parallel-item:last-child::after {align-self: flex-start;width: 50%;}#sk-container-id-1 div.sk-parallel-item:only-child::after {width: 0;}#sk-container-id-1 div.sk-dashed-wrapped {border: 1px dashed gray;margin: 0 0.4em 0.5em 0.4em;box-sizing: border-box;padding-bottom: 0.4em;background-color: white;}#sk-container-id-1 div.sk-label label {font-family: monospace;font-weight: bold;display: inline-block;line-height: 1.2em;}#sk-container-id-1 div.sk-label-container {text-align: center;}#sk-container-id-1 div.sk-container {/* jupyter's `normalize.less` sets `[hidden] { display: none; }` but bootstrap.min.css set `[hidden] { display: none !important; }` so we also need the `!important` here to be able to override the default hidden behavior on the sphinx rendered scikit-learn.org. See: https://github.com/scikit-learn/scikit-learn/issues/21755 */display: inline-block !important;position: relative;}#sk-container-id-1 div.sk-text-repr-fallback {display: none;}</style><div id=\"sk-container-id-1\" class=\"sk-top-container\"><div class=\"sk-text-repr-fallback\"><pre>RandomForestClassifier(max_depth=260, min_samples_leaf=0.0450100263227729,\n",
       "                       min_samples_split=0.04862715588473516, n_estimators=470,\n",
       "                       n_jobs=-1, random_state=456, verbose=2)</pre><b>In a Jupyter environment, please rerun this cell to show the HTML representation or trust the notebook. <br />On GitHub, the HTML representation is unable to render, please try loading this page with nbviewer.org.</b></div><div class=\"sk-container\" hidden><div class=\"sk-item\"><div class=\"sk-estimator sk-toggleable\"><input class=\"sk-toggleable__control sk-hidden--visually\" id=\"sk-estimator-id-1\" type=\"checkbox\" checked><label for=\"sk-estimator-id-1\" class=\"sk-toggleable__label sk-toggleable__label-arrow\">RandomForestClassifier</label><div class=\"sk-toggleable__content\"><pre>RandomForestClassifier(max_depth=260, min_samples_leaf=0.0450100263227729,\n",
       "                       min_samples_split=0.04862715588473516, n_estimators=470,\n",
       "                       n_jobs=-1, random_state=456, verbose=2)</pre></div></div></div></div></div>"
      ],
      "text/plain": [
       "RandomForestClassifier(max_depth=260, min_samples_leaf=0.0450100263227729,\n",
       "                       min_samples_split=0.04862715588473516, n_estimators=470,\n",
       "                       n_jobs=-1, random_state=456, verbose=2)"
      ]
     },
     "execution_count": 19,
     "metadata": {},
     "output_type": "execute_result"
    }
   ],
   "source": [
    "# rf_classifier.fit(\n",
    "#     X=X_train,\n",
    "#     y=np.ravel(y_train)\n",
    "# )"
   ]
  },
  {
   "cell_type": "code",
   "execution_count": 7,
   "metadata": {},
   "outputs": [],
   "source": [
    "# joblib.dump(rf_classifier, \"../99_Assets/01_Saved Models/00_random_forest_classifier.joblib\")\n",
    "rf_classifier = joblib.load(\"../99_assets/01_Saved Models/00_random_forest_classifier.joblib\")"
   ]
  },
  {
   "cell_type": "code",
   "execution_count": 8,
   "metadata": {},
   "outputs": [
    {
     "name": "stderr",
     "output_type": "stream",
     "text": [
      "[Parallel(n_jobs=10)]: Using backend ThreadingBackend with 10 concurrent workers.\n",
      "[Parallel(n_jobs=10)]: Done  21 tasks      | elapsed:    0.0s\n",
      "[Parallel(n_jobs=10)]: Done 142 tasks      | elapsed:    0.0s\n",
      "[Parallel(n_jobs=10)]: Done 345 tasks      | elapsed:    0.1s\n",
      "[Parallel(n_jobs=10)]: Done 470 out of 470 | elapsed:    0.1s finished\n",
      "[Parallel(n_jobs=10)]: Using backend ThreadingBackend with 10 concurrent workers.\n",
      "[Parallel(n_jobs=10)]: Done  21 tasks      | elapsed:    0.0s\n",
      "[Parallel(n_jobs=10)]: Done 142 tasks      | elapsed:    0.0s\n",
      "[Parallel(n_jobs=10)]: Done 345 tasks      | elapsed:    0.1s\n",
      "[Parallel(n_jobs=10)]: Done 470 out of 470 | elapsed:    0.1s finished\n"
     ]
    }
   ],
   "source": [
    "y_val_pred = rf_classifier.predict(X_val) #Predict X_test\n",
    "y_val_pred_proba = rf_classifier.predict_proba(X_val) #Predict probablities X_test\n",
    "f1 = f1_score(y_val, y_val_pred, average=\"macro\") #Compute f1-score\n",
    "auc = roc_auc_score(np.ravel(y_val), y_val_pred_proba[:,1], average=\"macro\", multi_class=\"ovr\") #Compute AUC\n",
    "gmean = geometric_mean_score(y_val, y_val_pred, average=\"macro\") #Compute G-Mean\n",
    "precision = precision_score(y_val, y_val_pred)\n",
    "recall = recall_score(y_val, y_val_pred)"
   ]
  },
  {
   "cell_type": "code",
   "execution_count": 9,
   "metadata": {},
   "outputs": [
    {
     "name": "stdout",
     "output_type": "stream",
     "text": [
      "+--------------------+--------------------+--------------------+--------------------+--------------------+\n",
      "|      F1-Score      |       G-Mean       |        AUC         |     Precision      |       Recall       |\n",
      "+--------------------+--------------------+--------------------+--------------------+--------------------+\n",
      "| 0.8347862562765025 | 0.8275218859220146 | 0.9097902212254627 | 0.8463316002310803 | 0.7402728650833754 |\n",
      "+--------------------+--------------------+--------------------+--------------------+--------------------+\n"
     ]
    }
   ],
   "source": [
    "data = [[\"F1-Score\", \"G-Mean\", \"AUC\", \"Precision\", \"Recall\"], [f1, gmean, auc, precision, recall]]\n",
    "table = PrettyTable(data[0])\n",
    "table.add_rows(data[1:])\n",
    "print(table)"
   ]
  },
  {
   "attachments": {},
   "cell_type": "markdown",
   "metadata": {},
   "source": [
    "## 7. Conclusion\n",
    "The goal of this notebook was to demonstrate a binary classification of time series EEG data for epileptic seizure detection by using a Random Forest classifier. To begin, the preprocessed dataset was loaded, the feature dimension was flattened and split into a training and validation subset. In order to build the best possible classification model, hyperparameter optimization was performed and the optimization space was defined first for this purpose. The optimization was performed using the Hyperopt library, which is based on Bayesian mathematics. The objective function includes the definition, training and evaluation of the random forest classifier. In addition, a 5-fold cross validation was performed. The used hyperparameters as well as the results are passed to the minimization function and stored there. After the successful optimization, the hyperparameters with the best result were extracted and an optimized random forest classifier was created. This was also trained and validated with the help of not yet used validation data.\n",
    "\n",
    "In general, the approach using a random forest classifier has proven to be usable. However, the model only achieved an F1 score of 0.83, which limits its real-world applicability. A final comparison of all methodologies will be made in Notebok `04_Model Comparison.ipynb`."
   ]
  }
 ],
 "metadata": {
  "kernelspec": {
   "display_name": "nlp",
   "language": "python",
   "name": "python3"
  },
  "language_info": {
   "codemirror_mode": {
    "name": "ipython",
    "version": 3
   },
   "file_extension": ".py",
   "mimetype": "text/x-python",
   "name": "python",
   "nbconvert_exporter": "python",
   "pygments_lexer": "ipython3",
   "version": "3.8.16"
  },
  "orig_nbformat": 4
 },
 "nbformat": 4,
 "nbformat_minor": 2
}
