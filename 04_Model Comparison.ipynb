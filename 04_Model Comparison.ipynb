{
 "cells": [
  {
   "attachments": {},
   "cell_type": "markdown",
   "metadata": {},
   "source": [
    "# Epileptic Seizure Classification - Comparison of developed Models\n",
    "This notebook contains the comparison of the different classification models of time series EEG data for the detection of epileptic seizures based on the preprocessed CHB-MIT Scalp EEG Database.<br>\n",
    "The codes is structured as followed:\n",
    "1. [Imports](#1-imports)\n",
    "2. [Define General Functions](#2-define-general-functions)\n",
    "3. [Get Prediction Metrics](#3-get-prediction-metrics)\n",
    "4. [Model Comparison](#4-comparison)\n",
    "5. [Conclusion](#5-conclusions)"
   ]
  },
  {
   "attachments": {},
   "cell_type": "markdown",
   "metadata": {},
   "source": [
    "## 1. Imports\n",
    "Import requiered libraries. <br>\n",
    "External packages can be installed via the `pip install -r requirements.txt` command or the notebook-cell below."
   ]
  },
  {
   "cell_type": "code",
   "execution_count": null,
   "metadata": {},
   "outputs": [],
   "source": [
    "! pip install -r ../requirements.txt"
   ]
  },
  {
   "cell_type": "code",
   "execution_count": 42,
   "metadata": {},
   "outputs": [],
   "source": [
    "# Import datascience libraries\n",
    "import numpy as np\n",
    "import pandas as pd\n",
    "\n",
    "# Import preprocessing-libraries, classification metrics\n",
    "from sklearn.model_selection import train_test_split\n",
    "from sklearn.preprocessing import MinMaxScaler, StandardScaler\n",
    "from sklearn.metrics import f1_score, roc_auc_score, precision_score, recall_score\n",
    "from imblearn.metrics import geometric_mean_score\n",
    "\n",
    "# Import visualization libraries\n",
    "import plotly.express as px\n",
    "import plotly.graph_objects as go\n",
    "from plotly.subplots import make_subplots\n",
    "\n",
    "# Import ML libraries\n",
    "import tensorflow as tf\n",
    "import joblib"
   ]
  },
  {
   "attachments": {},
   "cell_type": "markdown",
   "metadata": {},
   "source": [
    "## 2. Define General Functions\n",
    "In order to calculate all metrics for the created models, first general functions have to be defined, which are necessary for the prediction."
   ]
  },
  {
   "cell_type": "code",
   "execution_count": 2,
   "metadata": {},
   "outputs": [],
   "source": [
    "def normalize_features(X_train:np.ndarray, X_test:np.ndarray, X_val:np.ndarray, use_standard_scaler:bool=False) -> tuple:\n",
    "    if(use_standard_scaler):\n",
    "        scaler = StandardScaler() # Create Z-Score normalizer\n",
    "    else:\n",
    "        scaler = MinMaxScaler() # Create Min-Max normalizer\n",
    "    X_train_norm = np.zeros(shape=(X_train.shape), dtype='float32') # Create empty array for normalized train-data\n",
    "    X_test_norm = np.zeros(shape=(X_test.shape), dtype='float32') # Create empty array for normalized test-data\n",
    "    X_val_norm = np.zeros(shape=(X_val.shape), dtype='float32') # Create empty array for normalized val-data\n",
    "    for feature_col in range(X_train.shape[2]): # Iterate over features in dataset\n",
    "        X_train_norm[:,:,feature_col] = scaler.fit_transform(X_train[:,:,feature_col]) # Fit and apply normalizer on current feature in train subset\n",
    "        X_test_norm[:,:,feature_col] = scaler.transform(X_test[:,:,feature_col]) # Apply normalizer on current feature in test subset\n",
    "        X_val_norm[:,:,feature_col] = scaler.transform(X_val[:,:,feature_col]) # Apply normalizer on current feature in val subset\n",
    "    return X_train_norm, X_test_norm, X_val_norm"
   ]
  },
  {
   "cell_type": "code",
   "execution_count": 3,
   "metadata": {},
   "outputs": [],
   "source": [
    "metric_df = pd.DataFrame(columns=['Model', 'F1','GMean','AUC','Precision','Recall'])"
   ]
  },
  {
   "attachments": {},
   "cell_type": "markdown",
   "metadata": {},
   "source": [
    "## 3. Get Prediction Metrics\n",
    "The following section loads all saved models and calculates each of the defined metrics. To allow a later comparison, the values are stored in a dataframe."
   ]
  },
  {
   "attachments": {},
   "cell_type": "markdown",
   "metadata": {},
   "source": [
    "### 3.1 Random Forest Classifier"
   ]
  },
  {
   "cell_type": "code",
   "execution_count": 4,
   "metadata": {},
   "outputs": [
    {
     "name": "stderr",
     "output_type": "stream",
     "text": [
      "[Parallel(n_jobs=10)]: Using backend ThreadingBackend with 10 concurrent workers.\n",
      "[Parallel(n_jobs=10)]: Done  21 tasks      | elapsed:    0.0s\n",
      "[Parallel(n_jobs=10)]: Done 142 tasks      | elapsed:    0.0s\n",
      "[Parallel(n_jobs=10)]: Done 345 tasks      | elapsed:    0.1s\n",
      "[Parallel(n_jobs=10)]: Done 470 out of 470 | elapsed:    0.1s finished\n",
      "[Parallel(n_jobs=10)]: Using backend ThreadingBackend with 10 concurrent workers.\n",
      "[Parallel(n_jobs=10)]: Done  21 tasks      | elapsed:    0.0s\n",
      "[Parallel(n_jobs=10)]: Done 142 tasks      | elapsed:    0.0s\n",
      "[Parallel(n_jobs=10)]: Done 345 tasks      | elapsed:    0.1s\n",
      "[Parallel(n_jobs=10)]: Done 470 out of 470 | elapsed:    0.1s finished\n"
     ]
    }
   ],
   "source": [
    "dataset = np.load('./00_Data/Processed-Data/classification_dataset_mean.npz')\n",
    "X = dataset[\"features\"]\n",
    "y = dataset[\"labels\"]\n",
    "\n",
    "n_samples, n_timesteps, n_features = X.shape\n",
    "X_reshaped = np.reshape(X, (n_samples, (n_timesteps * n_features)))\n",
    "\n",
    "X_train, X_val, y_train, y_val = train_test_split(X_reshaped, y, test_size=0.3, shuffle=True, stratify=np.ravel(y), random_state=34)\n",
    "\n",
    "rf_classifier = joblib.load(\"./99_Assets/01_Saved Models/00_random_forest_classifier.joblib\")\n",
    "\n",
    "y_val_pred = rf_classifier.predict(X_val) #Predict X_test\n",
    "y_val_pred_proba = rf_classifier.predict_proba(X_val) #Predict probablities X_test\n",
    "f1 = f1_score(y_val, y_val_pred, average=\"macro\") #Compute f1-score\n",
    "auc = roc_auc_score(np.ravel(y_val), y_val_pred_proba[:,1], average=\"macro\", multi_class=\"ovr\") #Compute AUC\n",
    "gmean = geometric_mean_score(y_val, y_val_pred, average=\"macro\") #Compute G-Mean\n",
    "precision = precision_score(y_val, y_val_pred)\n",
    "recall = recall_score(y_val, y_val_pred)\n",
    "\n",
    "metric_df.loc[len(metric_df)] = ['RandomForest', f1, gmean, auc, precision, recall]"
   ]
  },
  {
   "attachments": {},
   "cell_type": "markdown",
   "metadata": {},
   "source": [
    "### 3.2 Bi-LSTM"
   ]
  },
  {
   "cell_type": "code",
   "execution_count": 5,
   "metadata": {},
   "outputs": [
    {
     "name": "stdout",
     "output_type": "stream",
     "text": [
      "Metal device set to: Apple M1 Pro\n",
      "\n",
      "systemMemory: 16.00 GB\n",
      "maxCacheSize: 5.33 GB\n",
      "\n"
     ]
    },
    {
     "name": "stderr",
     "output_type": "stream",
     "text": [
      "2023-07-02 16:30:22.386746: W tensorflow/tsl/platform/profile_utils/cpu_utils.cc:128] Failed to get CPU frequency: 0 Hz\n",
      "2023-07-02 16:30:22.770317: W tensorflow/core/grappler/costs/op_level_cost_estimator.cc:690] Error in PredictCost() for the op: op: \"Softmax\" attr { key: \"T\" value { type: DT_FLOAT } } inputs { dtype: DT_FLOAT shape { unknown_rank: true } } device { type: \"GPU\" } outputs { dtype: DT_FLOAT shape { unknown_rank: true } }\n"
     ]
    },
    {
     "name": "stdout",
     "output_type": "stream",
     "text": [
      "107/107 [==============================] - 12s 99ms/step\n"
     ]
    }
   ],
   "source": [
    "dataset = np.load('./00_Data/Processed-Data/classification_dataset_max.npz') # Load compressed numpy array\n",
    "X = dataset[\"features\"] # Extract feature-array from compressed file\n",
    "y = dataset[\"labels\"] # Extract label-array from compressed file\n",
    "\n",
    "X_train, X_rest, y_train, y_rest = train_test_split(X, y, test_size=0.4, shuffle=True, stratify=np.ravel(y), random_state=254)\n",
    "X_test, X_val, y_test, y_val = train_test_split(X_rest, y_rest, test_size=0.5, shuffle=True, stratify=np.ravel(y_rest), random_state=865)\n",
    "\n",
    "X_train_norm, X_test_norm, X_val_norm = normalize_features(X_train, X_test, X_val, True)\n",
    "\n",
    "model = tf.keras.models.load_model('./99_Assets/01_Saved Models/01_bi_lstm.h5')\n",
    "\n",
    "y_test_predictions = model.predict(X_test_norm)\n",
    "y_test_predictions = (y_test_predictions >= 0.5).astype(int)\n",
    "f1score = f1_score(y_test, y_test_predictions)\n",
    "gm = geometric_mean_score(y_test, y_test_predictions, average=\"binary\")\n",
    "auc = roc_auc_score(y_test, y_test_predictions, average=\"weighted\")\n",
    "precision = precision_score(y_test, y_test_predictions)\n",
    "recall = recall_score(y_test, y_test_predictions)\n",
    "\n",
    "metric_df.loc[len(metric_df)] = ['Bi-LSTM', f1score, gm, auc, precision, recall]"
   ]
  },
  {
   "attachments": {},
   "cell_type": "markdown",
   "metadata": {},
   "source": [
    "### 3.3 Autoencoder - Latent Space Classification"
   ]
  },
  {
   "cell_type": "code",
   "execution_count": 6,
   "metadata": {},
   "outputs": [
    {
     "name": "stdout",
     "output_type": "stream",
     "text": [
      "107/107 [==============================] - 1s 4ms/step\n"
     ]
    }
   ],
   "source": [
    "dataset = np.load('./00_Data/Processed-Data/classification_dataset_max.npz') # Load compressed numpy array\n",
    "X = dataset[\"features\"] # Extract feature-array from compressed file\n",
    "y = dataset[\"labels\"] # Extract label-array from compressed file\n",
    "\n",
    "X_train, X_rest, y_train, y_rest = train_test_split(X, y, test_size=0.4, shuffle=True, stratify=np.ravel(y), random_state=34)\n",
    "X_test, X_val, y_test, y_val = train_test_split(X_rest, y_rest, test_size=0.5, shuffle=True, stratify=np.ravel(y_rest), random_state=34)\n",
    "\n",
    "X_train_normalized, X_test_normalized, X_val_normalized = normalize_features(X_train, X_test, X_val, True)\n",
    "\n",
    "clf = tf.keras.models.load_model('./99_Assets/01_Saved Models/03_classifier_latent_space_clf.h5')\n",
    "\n",
    "y_test_predictions = clf.predict(X_test_normalized)\n",
    "y_test_predictions = (y_test_predictions >= 0.5).astype(int)\n",
    "f1score = f1_score(y_test, y_test_predictions)\n",
    "gm = geometric_mean_score(y_test, y_test_predictions, average=\"binary\")\n",
    "auc = roc_auc_score(y_test, y_test_predictions, average=\"weighted\")\n",
    "precision = precision_score(y_test, y_test_predictions)\n",
    "recall = recall_score(y_test, y_test_predictions)\n",
    "\n",
    "metric_df.loc[len(metric_df)] = ['AE-LatentSpace', f1score, gm, auc, precision, recall]"
   ]
  },
  {
   "attachments": {},
   "cell_type": "markdown",
   "metadata": {},
   "source": [
    "### 3.4 Autoencoder - Threshold Classification"
   ]
  },
  {
   "cell_type": "code",
   "execution_count": 7,
   "metadata": {},
   "outputs": [
    {
     "name": "stdout",
     "output_type": "stream",
     "text": [
      "107/107 [==============================] - 3s 27ms/step\n"
     ]
    }
   ],
   "source": [
    "dataset = np.load('./00_Data/Processed-Data/classification_dataset_max.npz')\n",
    "X = dataset[\"features\"]\n",
    "y = dataset[\"labels\"]\n",
    "\n",
    "X_train, X_rest, y_train, y_rest = train_test_split(X, y, test_size=0.4, shuffle=True, stratify=np.ravel(y), random_state=34)\n",
    "X_test, X_val, y_test, y_val = train_test_split(X_rest, y_rest, test_size=0.5, shuffle=True, stratify=np.ravel(y_rest), random_state=34)\n",
    "\n",
    "X_train_normalized, X_test_normalized, X_val_normalized = normalize_features(X_train, X_test, X_val, True)\n",
    "\n",
    "autoencoder = tf.keras.models.load_model('./99_Assets/01_Saved Models/02_autoencoder_threshold.h5')\n",
    "\n",
    "X_test_pred = autoencoder.predict(X_test_normalized)\n",
    "mse = np.mean(np.square(X_test_pred - X_test_normalized), axis=(1, 2))\n",
    "y_test_predictions = np.where(mse >= 0.2, 1, 0)\n",
    "\n",
    "f1score = f1_score(y_test, y_test_predictions)\n",
    "gm = geometric_mean_score(y_test, y_test_predictions, average=\"binary\")\n",
    "auc = roc_auc_score(y_test, y_test_predictions, average=\"weighted\")\n",
    "precision = precision_score(y_test, y_test_predictions)\n",
    "recall = recall_score(y_test, y_test_predictions)\n",
    "\n",
    "metric_df.loc[len(metric_df)] = ['AE-Threshold', f1score, gm, auc, precision, recall]"
   ]
  },
  {
   "attachments": {},
   "cell_type": "markdown",
   "metadata": {},
   "source": [
    "## 4. Comparison\n",
    "The following section includes the comparison of the developed models based on the defined metrics. A summary of the findings as well as a narrowing down takes place in the following chapter."
   ]
  },
  {
   "cell_type": "code",
   "execution_count": 79,
   "metadata": {},
   "outputs": [
    {
     "data": {
      "application/vnd.plotly.v1+json": {
       "config": {
        "plotlyServerURL": "https://plot.ly"
       },
       "data": [
        {
         "name": "F1-Score",
         "text": [
          0.8347862562765025,
          0.9582374219006906,
          0.8532684283727401,
          0.7805825242718447
         ],
         "textposition": "inside",
         "texttemplate": "%{text:.4}",
         "type": "bar",
         "x": [
          "RandomForest",
          "Bi-LSTM",
          "AE-LatentSpace",
          "AE-Threshold"
         ],
         "xaxis": "x",
         "y": [
          0.8347862562765025,
          0.9582374219006906,
          0.8532684283727401,
          0.7805825242718447
         ],
         "yaxis": "y"
        },
        {
         "name": "F1-Score",
         "text": [
          0.8275218859220146,
          0.9619492051163844,
          0.8668217431665114,
          0.7996274542396419
         ],
         "textposition": "inside",
         "texttemplate": "%{text:.4}",
         "type": "bar",
         "x": [
          "RandomForest",
          "Bi-LSTM",
          "AE-LatentSpace",
          "AE-Threshold"
         ],
         "xaxis": "x2",
         "y": [
          0.8275218859220146,
          0.9619492051163844,
          0.8668217431665114,
          0.7996274542396419
         ],
         "yaxis": "y2"
        },
        {
         "name": "F1-Score",
         "text": [
          0.9097902212254627,
          0.9619715846994534,
          0.8692284153005464,
          0.7996765027322404
         ],
         "textposition": "inside",
         "texttemplate": "%{text:.4}",
         "type": "bar",
         "x": [
          "RandomForest",
          "Bi-LSTM",
          "AE-LatentSpace",
          "AE-Threshold"
         ],
         "xaxis": "x3",
         "y": [
          0.9097902212254627,
          0.9619715846994534,
          0.8692284153005464,
          0.7996765027322404
         ],
         "yaxis": "y3"
        },
        {
         "name": "Precision",
         "text": [
          0.8463316002310803,
          0.9610817941952506,
          0.9082161361954109,
          0.7706070287539936
         ],
         "textposition": "inside",
         "texttemplate": "%{text:.4}",
         "type": "bar",
         "x": [
          "RandomForest",
          "Bi-LSTM",
          "AE-LatentSpace",
          "AE-Threshold"
         ],
         "xaxis": "x4",
         "y": [
          0.8463316002310803,
          0.9610817941952506,
          0.9082161361954109,
          0.7706070287539936
         ],
         "yaxis": "y4"
        },
        {
         "name": "Recall",
         "text": [
          0.7402728650833754,
          0.9554098360655737,
          0.8045901639344263,
          0.7908196721311476
         ],
         "textposition": "inside",
         "texttemplate": "%{text:.4}",
         "type": "bar",
         "x": [
          "RandomForest",
          "Bi-LSTM",
          "AE-LatentSpace",
          "AE-Threshold"
         ],
         "xaxis": "x5",
         "y": [
          0.7402728650833754,
          0.9554098360655737,
          0.8045901639344263,
          0.7908196721311476
         ],
         "yaxis": "y5"
        }
       ],
       "layout": {
        "annotations": [
         {
          "font": {
           "size": 16
          },
          "showarrow": false,
          "text": "F1-Score",
          "x": 0.14444444444444446,
          "xanchor": "center",
          "xref": "paper",
          "y": 1,
          "yanchor": "bottom",
          "yref": "paper"
         },
         {
          "font": {
           "size": 16
          },
          "showarrow": false,
          "text": "G-Mean",
          "x": 0.5,
          "xanchor": "center",
          "xref": "paper",
          "y": 1,
          "yanchor": "bottom",
          "yref": "paper"
         },
         {
          "font": {
           "size": 16
          },
          "showarrow": false,
          "text": "AUC",
          "x": 0.8555555555555556,
          "xanchor": "center",
          "xref": "paper",
          "y": 1,
          "yanchor": "bottom",
          "yref": "paper"
         },
         {
          "font": {
           "size": 16
          },
          "showarrow": false,
          "text": "Precision",
          "x": 0.14444444444444446,
          "xanchor": "center",
          "xref": "paper",
          "y": 0.375,
          "yanchor": "bottom",
          "yref": "paper"
         },
         {
          "font": {
           "size": 16
          },
          "showarrow": false,
          "text": "Recall",
          "x": 0.5,
          "xanchor": "center",
          "xref": "paper",
          "y": 0.375,
          "yanchor": "bottom",
          "yref": "paper"
         }
        ],
        "autosize": false,
        "height": 1000,
        "template": {
         "data": {
          "bar": [
           {
            "error_x": {
             "color": "#2a3f5f"
            },
            "error_y": {
             "color": "#2a3f5f"
            },
            "marker": {
             "line": {
              "color": "#E5ECF6",
              "width": 0.5
             },
             "pattern": {
              "fillmode": "overlay",
              "size": 10,
              "solidity": 0.2
             }
            },
            "type": "bar"
           }
          ],
          "barpolar": [
           {
            "marker": {
             "line": {
              "color": "#E5ECF6",
              "width": 0.5
             },
             "pattern": {
              "fillmode": "overlay",
              "size": 10,
              "solidity": 0.2
             }
            },
            "type": "barpolar"
           }
          ],
          "carpet": [
           {
            "aaxis": {
             "endlinecolor": "#2a3f5f",
             "gridcolor": "white",
             "linecolor": "white",
             "minorgridcolor": "white",
             "startlinecolor": "#2a3f5f"
            },
            "baxis": {
             "endlinecolor": "#2a3f5f",
             "gridcolor": "white",
             "linecolor": "white",
             "minorgridcolor": "white",
             "startlinecolor": "#2a3f5f"
            },
            "type": "carpet"
           }
          ],
          "choropleth": [
           {
            "colorbar": {
             "outlinewidth": 0,
             "ticks": ""
            },
            "type": "choropleth"
           }
          ],
          "contour": [
           {
            "colorbar": {
             "outlinewidth": 0,
             "ticks": ""
            },
            "colorscale": [
             [
              0,
              "#0d0887"
             ],
             [
              0.1111111111111111,
              "#46039f"
             ],
             [
              0.2222222222222222,
              "#7201a8"
             ],
             [
              0.3333333333333333,
              "#9c179e"
             ],
             [
              0.4444444444444444,
              "#bd3786"
             ],
             [
              0.5555555555555556,
              "#d8576b"
             ],
             [
              0.6666666666666666,
              "#ed7953"
             ],
             [
              0.7777777777777778,
              "#fb9f3a"
             ],
             [
              0.8888888888888888,
              "#fdca26"
             ],
             [
              1,
              "#f0f921"
             ]
            ],
            "type": "contour"
           }
          ],
          "contourcarpet": [
           {
            "colorbar": {
             "outlinewidth": 0,
             "ticks": ""
            },
            "type": "contourcarpet"
           }
          ],
          "heatmap": [
           {
            "colorbar": {
             "outlinewidth": 0,
             "ticks": ""
            },
            "colorscale": [
             [
              0,
              "#0d0887"
             ],
             [
              0.1111111111111111,
              "#46039f"
             ],
             [
              0.2222222222222222,
              "#7201a8"
             ],
             [
              0.3333333333333333,
              "#9c179e"
             ],
             [
              0.4444444444444444,
              "#bd3786"
             ],
             [
              0.5555555555555556,
              "#d8576b"
             ],
             [
              0.6666666666666666,
              "#ed7953"
             ],
             [
              0.7777777777777778,
              "#fb9f3a"
             ],
             [
              0.8888888888888888,
              "#fdca26"
             ],
             [
              1,
              "#f0f921"
             ]
            ],
            "type": "heatmap"
           }
          ],
          "heatmapgl": [
           {
            "colorbar": {
             "outlinewidth": 0,
             "ticks": ""
            },
            "colorscale": [
             [
              0,
              "#0d0887"
             ],
             [
              0.1111111111111111,
              "#46039f"
             ],
             [
              0.2222222222222222,
              "#7201a8"
             ],
             [
              0.3333333333333333,
              "#9c179e"
             ],
             [
              0.4444444444444444,
              "#bd3786"
             ],
             [
              0.5555555555555556,
              "#d8576b"
             ],
             [
              0.6666666666666666,
              "#ed7953"
             ],
             [
              0.7777777777777778,
              "#fb9f3a"
             ],
             [
              0.8888888888888888,
              "#fdca26"
             ],
             [
              1,
              "#f0f921"
             ]
            ],
            "type": "heatmapgl"
           }
          ],
          "histogram": [
           {
            "marker": {
             "pattern": {
              "fillmode": "overlay",
              "size": 10,
              "solidity": 0.2
             }
            },
            "type": "histogram"
           }
          ],
          "histogram2d": [
           {
            "colorbar": {
             "outlinewidth": 0,
             "ticks": ""
            },
            "colorscale": [
             [
              0,
              "#0d0887"
             ],
             [
              0.1111111111111111,
              "#46039f"
             ],
             [
              0.2222222222222222,
              "#7201a8"
             ],
             [
              0.3333333333333333,
              "#9c179e"
             ],
             [
              0.4444444444444444,
              "#bd3786"
             ],
             [
              0.5555555555555556,
              "#d8576b"
             ],
             [
              0.6666666666666666,
              "#ed7953"
             ],
             [
              0.7777777777777778,
              "#fb9f3a"
             ],
             [
              0.8888888888888888,
              "#fdca26"
             ],
             [
              1,
              "#f0f921"
             ]
            ],
            "type": "histogram2d"
           }
          ],
          "histogram2dcontour": [
           {
            "colorbar": {
             "outlinewidth": 0,
             "ticks": ""
            },
            "colorscale": [
             [
              0,
              "#0d0887"
             ],
             [
              0.1111111111111111,
              "#46039f"
             ],
             [
              0.2222222222222222,
              "#7201a8"
             ],
             [
              0.3333333333333333,
              "#9c179e"
             ],
             [
              0.4444444444444444,
              "#bd3786"
             ],
             [
              0.5555555555555556,
              "#d8576b"
             ],
             [
              0.6666666666666666,
              "#ed7953"
             ],
             [
              0.7777777777777778,
              "#fb9f3a"
             ],
             [
              0.8888888888888888,
              "#fdca26"
             ],
             [
              1,
              "#f0f921"
             ]
            ],
            "type": "histogram2dcontour"
           }
          ],
          "mesh3d": [
           {
            "colorbar": {
             "outlinewidth": 0,
             "ticks": ""
            },
            "type": "mesh3d"
           }
          ],
          "parcoords": [
           {
            "line": {
             "colorbar": {
              "outlinewidth": 0,
              "ticks": ""
             }
            },
            "type": "parcoords"
           }
          ],
          "pie": [
           {
            "automargin": true,
            "type": "pie"
           }
          ],
          "scatter": [
           {
            "fillpattern": {
             "fillmode": "overlay",
             "size": 10,
             "solidity": 0.2
            },
            "type": "scatter"
           }
          ],
          "scatter3d": [
           {
            "line": {
             "colorbar": {
              "outlinewidth": 0,
              "ticks": ""
             }
            },
            "marker": {
             "colorbar": {
              "outlinewidth": 0,
              "ticks": ""
             }
            },
            "type": "scatter3d"
           }
          ],
          "scattercarpet": [
           {
            "marker": {
             "colorbar": {
              "outlinewidth": 0,
              "ticks": ""
             }
            },
            "type": "scattercarpet"
           }
          ],
          "scattergeo": [
           {
            "marker": {
             "colorbar": {
              "outlinewidth": 0,
              "ticks": ""
             }
            },
            "type": "scattergeo"
           }
          ],
          "scattergl": [
           {
            "marker": {
             "colorbar": {
              "outlinewidth": 0,
              "ticks": ""
             }
            },
            "type": "scattergl"
           }
          ],
          "scattermapbox": [
           {
            "marker": {
             "colorbar": {
              "outlinewidth": 0,
              "ticks": ""
             }
            },
            "type": "scattermapbox"
           }
          ],
          "scatterpolar": [
           {
            "marker": {
             "colorbar": {
              "outlinewidth": 0,
              "ticks": ""
             }
            },
            "type": "scatterpolar"
           }
          ],
          "scatterpolargl": [
           {
            "marker": {
             "colorbar": {
              "outlinewidth": 0,
              "ticks": ""
             }
            },
            "type": "scatterpolargl"
           }
          ],
          "scatterternary": [
           {
            "marker": {
             "colorbar": {
              "outlinewidth": 0,
              "ticks": ""
             }
            },
            "type": "scatterternary"
           }
          ],
          "surface": [
           {
            "colorbar": {
             "outlinewidth": 0,
             "ticks": ""
            },
            "colorscale": [
             [
              0,
              "#0d0887"
             ],
             [
              0.1111111111111111,
              "#46039f"
             ],
             [
              0.2222222222222222,
              "#7201a8"
             ],
             [
              0.3333333333333333,
              "#9c179e"
             ],
             [
              0.4444444444444444,
              "#bd3786"
             ],
             [
              0.5555555555555556,
              "#d8576b"
             ],
             [
              0.6666666666666666,
              "#ed7953"
             ],
             [
              0.7777777777777778,
              "#fb9f3a"
             ],
             [
              0.8888888888888888,
              "#fdca26"
             ],
             [
              1,
              "#f0f921"
             ]
            ],
            "type": "surface"
           }
          ],
          "table": [
           {
            "cells": {
             "fill": {
              "color": "#EBF0F8"
             },
             "line": {
              "color": "white"
             }
            },
            "header": {
             "fill": {
              "color": "#C8D4E3"
             },
             "line": {
              "color": "white"
             }
            },
            "type": "table"
           }
          ]
         },
         "layout": {
          "annotationdefaults": {
           "arrowcolor": "#2a3f5f",
           "arrowhead": 0,
           "arrowwidth": 1
          },
          "autotypenumbers": "strict",
          "coloraxis": {
           "colorbar": {
            "outlinewidth": 0,
            "ticks": ""
           }
          },
          "colorscale": {
           "diverging": [
            [
             0,
             "#8e0152"
            ],
            [
             0.1,
             "#c51b7d"
            ],
            [
             0.2,
             "#de77ae"
            ],
            [
             0.3,
             "#f1b6da"
            ],
            [
             0.4,
             "#fde0ef"
            ],
            [
             0.5,
             "#f7f7f7"
            ],
            [
             0.6,
             "#e6f5d0"
            ],
            [
             0.7,
             "#b8e186"
            ],
            [
             0.8,
             "#7fbc41"
            ],
            [
             0.9,
             "#4d9221"
            ],
            [
             1,
             "#276419"
            ]
           ],
           "sequential": [
            [
             0,
             "#0d0887"
            ],
            [
             0.1111111111111111,
             "#46039f"
            ],
            [
             0.2222222222222222,
             "#7201a8"
            ],
            [
             0.3333333333333333,
             "#9c179e"
            ],
            [
             0.4444444444444444,
             "#bd3786"
            ],
            [
             0.5555555555555556,
             "#d8576b"
            ],
            [
             0.6666666666666666,
             "#ed7953"
            ],
            [
             0.7777777777777778,
             "#fb9f3a"
            ],
            [
             0.8888888888888888,
             "#fdca26"
            ],
            [
             1,
             "#f0f921"
            ]
           ],
           "sequentialminus": [
            [
             0,
             "#0d0887"
            ],
            [
             0.1111111111111111,
             "#46039f"
            ],
            [
             0.2222222222222222,
             "#7201a8"
            ],
            [
             0.3333333333333333,
             "#9c179e"
            ],
            [
             0.4444444444444444,
             "#bd3786"
            ],
            [
             0.5555555555555556,
             "#d8576b"
            ],
            [
             0.6666666666666666,
             "#ed7953"
            ],
            [
             0.7777777777777778,
             "#fb9f3a"
            ],
            [
             0.8888888888888888,
             "#fdca26"
            ],
            [
             1,
             "#f0f921"
            ]
           ]
          },
          "colorway": [
           "#636efa",
           "#EF553B",
           "#00cc96",
           "#ab63fa",
           "#FFA15A",
           "#19d3f3",
           "#FF6692",
           "#B6E880",
           "#FF97FF",
           "#FECB52"
          ],
          "font": {
           "color": "#2a3f5f"
          },
          "geo": {
           "bgcolor": "white",
           "lakecolor": "white",
           "landcolor": "#E5ECF6",
           "showlakes": true,
           "showland": true,
           "subunitcolor": "white"
          },
          "hoverlabel": {
           "align": "left"
          },
          "hovermode": "closest",
          "mapbox": {
           "style": "light"
          },
          "paper_bgcolor": "white",
          "plot_bgcolor": "#E5ECF6",
          "polar": {
           "angularaxis": {
            "gridcolor": "white",
            "linecolor": "white",
            "ticks": ""
           },
           "bgcolor": "#E5ECF6",
           "radialaxis": {
            "gridcolor": "white",
            "linecolor": "white",
            "ticks": ""
           }
          },
          "scene": {
           "xaxis": {
            "backgroundcolor": "#E5ECF6",
            "gridcolor": "white",
            "gridwidth": 2,
            "linecolor": "white",
            "showbackground": true,
            "ticks": "",
            "zerolinecolor": "white"
           },
           "yaxis": {
            "backgroundcolor": "#E5ECF6",
            "gridcolor": "white",
            "gridwidth": 2,
            "linecolor": "white",
            "showbackground": true,
            "ticks": "",
            "zerolinecolor": "white"
           },
           "zaxis": {
            "backgroundcolor": "#E5ECF6",
            "gridcolor": "white",
            "gridwidth": 2,
            "linecolor": "white",
            "showbackground": true,
            "ticks": "",
            "zerolinecolor": "white"
           }
          },
          "shapedefaults": {
           "line": {
            "color": "#2a3f5f"
           }
          },
          "ternary": {
           "aaxis": {
            "gridcolor": "white",
            "linecolor": "white",
            "ticks": ""
           },
           "baxis": {
            "gridcolor": "white",
            "linecolor": "white",
            "ticks": ""
           },
           "bgcolor": "#E5ECF6",
           "caxis": {
            "gridcolor": "white",
            "linecolor": "white",
            "ticks": ""
           }
          },
          "title": {
           "x": 0.05
          },
          "xaxis": {
           "automargin": true,
           "gridcolor": "white",
           "linecolor": "white",
           "ticks": "",
           "title": {
            "standoff": 15
           },
           "zerolinecolor": "white",
           "zerolinewidth": 2
          },
          "yaxis": {
           "automargin": true,
           "gridcolor": "white",
           "linecolor": "white",
           "ticks": "",
           "title": {
            "standoff": 15
           },
           "zerolinecolor": "white",
           "zerolinewidth": 2
          }
         }
        },
        "title": {
         "text": "Comparison Metrics over all Models"
        },
        "width": 2000,
        "xaxis": {
         "anchor": "y",
         "domain": [
          0,
          0.2888888888888889
         ]
        },
        "xaxis2": {
         "anchor": "y2",
         "domain": [
          0.35555555555555557,
          0.6444444444444445
         ]
        },
        "xaxis3": {
         "anchor": "y3",
         "domain": [
          0.7111111111111111,
          1
         ]
        },
        "xaxis4": {
         "anchor": "y4",
         "domain": [
          0,
          0.2888888888888889
         ]
        },
        "xaxis5": {
         "anchor": "y5",
         "domain": [
          0.35555555555555557,
          0.6444444444444445
         ]
        },
        "xaxis6": {
         "anchor": "y6",
         "domain": [
          0.7111111111111111,
          1
         ]
        },
        "yaxis": {
         "anchor": "x",
         "domain": [
          0.625,
          1
         ]
        },
        "yaxis2": {
         "anchor": "x2",
         "domain": [
          0.625,
          1
         ]
        },
        "yaxis3": {
         "anchor": "x3",
         "domain": [
          0.625,
          1
         ]
        },
        "yaxis4": {
         "anchor": "x4",
         "domain": [
          0,
          0.375
         ]
        },
        "yaxis5": {
         "anchor": "x5",
         "domain": [
          0,
          0.375
         ]
        },
        "yaxis6": {
         "anchor": "x6",
         "domain": [
          0,
          0.375
         ]
        }
       }
      }
     },
     "metadata": {},
     "output_type": "display_data"
    }
   ],
   "source": [
    "fig = make_subplots(rows=2, cols=3, subplot_titles=[\"F1-Score\",\"G-Mean\",\"AUC\", \"Precision\", \"Recall\"])\n",
    "fig.add_trace(\n",
    "    go.Bar(\n",
    "        x=metric_df.Model,\n",
    "        y=metric_df.F1,\n",
    "        text=metric_df.F1,\n",
    "        name=\"F1-Score\"\n",
    "    ),\n",
    "    row=1, \n",
    "    col=1\n",
    ")\n",
    "fig.add_trace(\n",
    "    go.Bar(\n",
    "        x=metric_df.Model,\n",
    "        y=metric_df.GMean,\n",
    "        text=metric_df.GMean,\n",
    "        name=\"F1-Score\"\n",
    "    ),\n",
    "    row=1, \n",
    "    col=2\n",
    ")\n",
    "fig.add_trace(\n",
    "    go.Bar(\n",
    "        x=metric_df.Model,\n",
    "        y=metric_df.AUC,\n",
    "        text=metric_df.AUC,\n",
    "        name=\"F1-Score\"\n",
    "    ),\n",
    "    row=1, \n",
    "    col=3\n",
    ")\n",
    "fig.add_trace(\n",
    "    go.Bar(\n",
    "        x=metric_df.Model,\n",
    "        y=metric_df.Precision,\n",
    "        text=metric_df.Precision,\n",
    "        name=\"Precision\"\n",
    "    ),\n",
    "    row=2, \n",
    "    col=1\n",
    ")\n",
    "fig.add_trace(\n",
    "    go.Bar(\n",
    "        x=metric_df.Model,\n",
    "        y=metric_df.Recall,\n",
    "        text=metric_df.Recall,\n",
    "        name=\"Recall\"\n",
    "    ),\n",
    "    row=2, \n",
    "    col=2\n",
    ")\n",
    "fig.update_layout(\n",
    "    title=\"Comparison Metrics over all Models\",\n",
    "    autosize=False,\n",
    "    width=2000,\n",
    "    height=1000\n",
    ")\n",
    "fig.update_traces(texttemplate='%{text:.4}', textposition='inside')\n",
    "fig.show()"
   ]
  },
  {
   "attachments": {},
   "cell_type": "markdown",
   "metadata": {},
   "source": [
    "## 5. Conclusions\n",
    "The aim of this project was to classify EEG data for epilleptic seizure detection. For this purpose, a random forest, a neural network with Bi-LSTM and attention layer, an autoencoder with connected classifier and an autoencoder model with threshold method were developed. All models were able to successfully perform classification of the samples. However, each approach has strengths and weaknesses.\n",
    "\n",
    "`Autoencoder Threshold Classification` <br>\n",
    "Classification of the EEG data by using an autoencoder followed by evaluation of the reconstruction error provided satisfactory results. However, this model performs worst in the overall comparison with all metrics except recall. This loss can be traced back to the implicit creation of the training data. In the Sliding Time Windows technique, samples are also created in which only a portion contains an epilleptic seizure. Therefore, the reconstruction error is increased only to a certain proportion. However, since the average of all time steps is formed for each sample, samples with a small temporal fraction of epilleptic seizures cannot be correctly detected. Therefore, this approach is only suitable if the training data contains only time series where the label applies to all time steps.\n",
    "\n",
    "`Random Forest Classification` <br>\n",
    "The Random Forest classifier is the third best model and also achieved good results. The model created with hyperparameter optimization achieved an F1 score, G-Mean and Precision of about 0.83 and an AUC of 0.90. Thus, the comparatively very simple model can already make reliable predictions. Only the recall is the worst of all models, which means that a deficit in the detection of epileptic seizures can be identified.\n",
    "\n",
    "`Autoencoder Latent Space Classification` <br>\n",
    "This model is the most complex of the demonstrated methodologies and uses both an autoencoder and another neural network that takes the latent space as input and performs classification based on it. This approach has proven to be the second best and can achieve very good results across all metrics. The problem, which occurred with the threshold method, is not so important here, since the reconstruction error is only decisive for the training of the autoencoder. Only the recall shows a limited ability, whereby a smaller influence of the described problem can be measured again.\n",
    "\n",
    "`Bi-LSTM` <br>\n",
    "Across all metrics, the neural network with Bi-LSTM and Attention-Layer performed best. Here, an F1 score, G-Mean and AUC of 0.96 could be achieved. This result suggests a very good classification ability, which was also able to process the slightly unbalanced data set very well. These findings are also consistent with the Precision and Recall, demonstrating both the ability of the model to detect epilleptic seizures very well and a very low false positive rate. The good results can be attributed to the use of the LSTM layers in combination with the attention layer. The LSTM can process the temporal dependencies in the data and perform a highly effective mapping to the following dense layers via the attention layer. Combined with the high sensitivity of this network architecture, this model is very well suited for epilleptic seizure detection in EEG data. Another advantage of the Bi-LSTM model is the possibility of using Explainer libraries to understand how the model works. This makes it possible to understand the influence of individual channels on the results and, on this basis, to make a diagnosis of the affected brain region.\n",
    "\n",
    "Classification of EEG data for epilleptic seizure detection is a current and relevant application area for research. The use of neural networks not only allows the diagnosis of epillepsy but can also be used as an early warning system and for targeted treatment. Due to the time series reference, structures with Bi-LSTM and attention layers are particularly suitable for this task. However, in order to validate the results obtained, further tests must be carried out with other data sets in order to prove the generalizability of the statements. In addition, there are further possibilities, which have been successful in research, how the classification can be carried out. One promising methodology would be the use of autoencoders for dimensionality reduction. Another very important aspect is the use of frequency information. By using algorithms such as the Fourier transform, more information can be extracted from the EEG data, which can provide more detailed information about the exact circumstances of the seizure. However, since this project was only developed within one lecture, these aspects could not be considered due to time constraints."
   ]
  }
 ],
 "metadata": {
  "kernelspec": {
   "display_name": "nlp",
   "language": "python",
   "name": "python3"
  },
  "language_info": {
   "codemirror_mode": {
    "name": "ipython",
    "version": 3
   },
   "file_extension": ".py",
   "mimetype": "text/x-python",
   "name": "python",
   "nbconvert_exporter": "python",
   "pygments_lexer": "ipython3",
   "version": "3.8.16"
  },
  "orig_nbformat": 4
 },
 "nbformat": 4,
 "nbformat_minor": 2
}
